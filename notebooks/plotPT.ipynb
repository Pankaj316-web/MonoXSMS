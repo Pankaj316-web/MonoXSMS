{
 "cells": [
  {
   "cell_type": "code",
   "execution_count": 35,
   "id": "73c69e33",
   "metadata": {},
   "outputs": [],
   "source": [
    "import sys,os,glob,copy\n",
    "sys.path.append('../')\n",
    "import numpy as np\n",
    "from numpy.linalg import norm\n",
    "import pandas as pd\n",
    "from matplotlib import pyplot as plt\n",
    "import seaborn as sns\n",
    "from scipy.interpolate import LinearNDInterpolator,interp2d\n",
    "import matplotlib as mpl\n",
    "from matplotlib.colors import LogNorm\n",
    "from IPython.display import display, Markdown\n",
    "from collections import OrderedDict\n",
    "import pylhe\n",
    "import pyslha\n",
    "import ROOT\n",
    "\n",
    "ROOT.gSystem.Load(os.path.abspath(os.path.join(os.getcwd(),\"../Delphes/libDelphes.so\")))\n",
    "\n",
    "ROOT.gInterpreter.Declare('#include \"classes/SortableObject.h\"')\n",
    "ROOT.gInterpreter.Declare('#include \"classes/DelphesClasses.h\"')\n",
    "ROOT.gInterpreter.Declare('#include \"external/ExRootAnalysis/ExRootTreeReader.h\"')\n",
    "\n",
    "plt.rcParams.update({\n",
    "    \"text.usetex\": True,\n",
    "    \"font.family\": \"sans-serif\",\n",
    "    \"font.sans-serif\": [\"Helvetica\"]})\n",
    "\n",
    "plt.rcParams.update({\"savefig.dpi\" : 300}) #Figure resolution\n",
    "\n",
    "\n",
    "#Define plotting style:\n",
    "sns.set() #Set style\n",
    "sns.set_style('ticks',{'font.family':'Times New Roman', 'font.serif':'Times New Roman'})\n",
    "sns.set_context('paper', font_scale=1.8)\n",
    "cm = plt.cm.get_cmap('RdYlBu')"
   ]
  },
  {
   "cell_type": "markdown",
   "id": "1e952041",
   "metadata": {},
   "source": [
    "# Load Model Parameters"
   ]
  },
  {
   "cell_type": "code",
   "execution_count": 2,
   "id": "f4236190",
   "metadata": {},
   "outputs": [],
   "source": [
    "parameters = pyslha.readSLHAFile('../DMSimp_monojet/Cards/param_card.dat')\n",
    "mMed = parameters.blocks['MASS'][55]\n",
    "mDM = parameters.blocks['MASS'][52]\n",
    "gVq = parameters.blocks['DMINPUTS'][4] # Mediator-quark vector coupling\n",
    "gAq = parameters.blocks['DMINPUTS'][10] # Mediator-quark axial coupling\n",
    "gVx = parameters.blocks['DMINPUTS'][2] # Mediator-DM vector coupling\n",
    "gAx = parameters.blocks['DMINPUTS'][3] # Mediator-DM axial coupling"
   ]
  },
  {
   "cell_type": "markdown",
   "id": "70397ac3",
   "metadata": {},
   "source": [
    "# Set Delphes output file"
   ]
  },
  {
   "cell_type": "code",
   "execution_count": 3,
   "id": "05dc981b",
   "metadata": {},
   "outputs": [],
   "source": [
    "inputFiles = {'point1' : './test.root'}"
   ]
  },
  {
   "cell_type": "markdown",
   "id": "e483461f",
   "metadata": {},
   "source": [
    "# Define Cuts"
   ]
  },
  {
   "cell_type": "code",
   "execution_count": 4,
   "id": "a1f07246",
   "metadata": {},
   "outputs": [],
   "source": [
    "# Cuts \n",
    "## jets\n",
    "pTj1min = 100.\n",
    "pTjmin = 25.\n",
    "etamax = 2.4\n",
    "## MET\n",
    "minMET = 250.\n",
    "## Electrons\n",
    "pTmin_el = 10.\n",
    "etamax_el = 2.5\n",
    "nMax_el = 0\n",
    "## Muons\n",
    "pTmin_mu = 10.\n",
    "etamax_mu = 2.4\n",
    "nMax_mu = 0\n"
   ]
  },
  {
   "cell_type": "markdown",
   "id": "58dbbed7",
   "metadata": {},
   "source": [
    "# Load events, apply cuts and store relevant info"
   ]
  },
  {
   "cell_type": "code",
   "execution_count": 26,
   "id": "30ec0a1d",
   "metadata": {},
   "outputs": [],
   "source": [
    "pTj1 = []\n",
    "weights = []\n",
    "met = []\n",
    "genmet = []\n",
    "dmPT = []\n",
    "njets = []\n",
    "totalweight = 0.0\n",
    "cutFlow = OrderedDict({'Electron Veto' : 0, 'Muon Veto' : 0, 'pTmiss cut': 0, 'pT(j1) cut' : 0})\n",
    "for label,inputFile in inputFiles.items():\n",
    "\n",
    "    f = ROOT.TFile(inputFile,'read')\n",
    "    tree = f.Get(\"Delphes\")\n",
    "    nevts = tree.GetEntries()\n",
    "    \n",
    "    for ievt in range(nevts):    \n",
    "        tree.GetEntry(ievt)        \n",
    "\n",
    "        particles = tree.Particle\n",
    "        jets = tree.Jet\n",
    "        weight = tree.Event.At(0).Weight\n",
    "        totalweight += weight\n",
    "\n",
    "        genmissingET = tree.GenMissingET.At(0) \n",
    "        missingET = tree.MissingET.At(0)\n",
    "        electrons = tree.Electron\n",
    "        muons = tree.Electron\n",
    "        \n",
    "        # Get DM particles (gen level)\n",
    "        dmList = []\n",
    "        for ip in range(particles.GetEntries()):\n",
    "            p = particles.At(ip)\n",
    "            if abs(p.PID) != 52:\n",
    "                continue\n",
    "            if p.Status != 1:\n",
    "                continue\n",
    "            dmList.append(p)\n",
    "\n",
    "        \n",
    "        # Filter electrons:\n",
    "        electronList = []\n",
    "        for iel in range(electrons.GetEntries()):\n",
    "            electron = electrons.At(iel)\n",
    "            if electron.PT < pTmin_el:\n",
    "                continue\n",
    "            if abs(electron.Eta) > etamax_el:\n",
    "                continue\n",
    "            electronList.append(electron)\n",
    "        \n",
    "        # Filter muons:\n",
    "        muonList = []\n",
    "        for imu in range(muons.GetEntries()):\n",
    "            muon = muon.At(imu)\n",
    "            if muon.PT < pTmin_mu:\n",
    "                continue\n",
    "            if abs(muon.Eta) > etamax_mu:\n",
    "                continue\n",
    "            muonList.append(muon)\n",
    "            \n",
    "        # Filter jets\n",
    "        jetList = []\n",
    "        for ijet in range(jets.GetEntries()):\n",
    "            jet = jets.At(ijet)\n",
    "            if jet.PT < pTjmin:\n",
    "                continue\n",
    "            if abs(jet.Eta) > etamax:\n",
    "                continue\n",
    "            jetList.append(jet)  \n",
    "        jetList = sorted(jetList, key = lambda j: j.PT, reverse=True)    \n",
    "        \n",
    "        njets.append(jets.GetEntries())\n",
    "\n",
    "        # Apply cuts:\n",
    "        ## Veto electrons\n",
    "        if len(electronList) > nMax_el: continue  \n",
    "        cutFlow['Electron Veto'] += weight\n",
    "        ## Veto muons\n",
    "        if len(muonList) > nMax_mu: continue  \n",
    "        cutFlow['Muon Veto'] += weight\n",
    "        ## Cut on MET\n",
    "        if genmissingET.MET < minMET: continue  \n",
    "        cutFlow['pTmiss cut'] += weight\n",
    "        ## Veto zero jet events\n",
    "        if len(jetList) < 1 or jetList[0].PT < pTj1min: continue\n",
    "        cutFlow['pT(j1) cut'] += weight\n",
    "        \n",
    "        if len(dmList) !=2 :\n",
    "            print('Could not find 2 DM particles in the event')\n",
    "            print(len(dmList))\n",
    "            for dm in dmList:\n",
    "                print(dm.PID,dm.PT)\n",
    "            break\n",
    "        \n",
    "        # Store relevant data\n",
    "        dmPT.append(np.sqrt((dmList[0].Px + dmList[1].Px)**2 + (dmList[0].Py + dmList[1].Py)**2))\n",
    "        pTj1.append(jetList[0].PT)\n",
    "        weights.append(weight)\n",
    "        met.append(missingET.MET)\n",
    "        genmet.append(genmissingET.MET)\n",
    "f.Close()\n",
    "\n",
    "weights = np.array(weights)\n",
    "pTj1 = np.array(pTj1)\n",
    "met = np.array(met)\n",
    "genmet = np.array(genmet)\n",
    "njets = np.array(njets)"
   ]
  },
  {
   "cell_type": "markdown",
   "id": "ed5d9d71",
   "metadata": {},
   "source": [
    "## Print cutflow"
   ]
  },
  {
   "cell_type": "code",
   "execution_count": 32,
   "id": "4b6a8d08",
   "metadata": {},
   "outputs": [
    {
     "name": "stdout",
     "output_type": "stream",
     "text": [
      "totalweight = 157.892\n",
      "Electron Veto eff = 1.000\n",
      "Muon Veto eff = 1.000\n",
      "pTmiss cut eff = 0.172\n",
      "pT(j1) cut eff = 0.170\n"
     ]
    }
   ],
   "source": [
    "# Print cutflow:\n",
    "print('totalweight = %1.3f' %totalweight)\n",
    "for cut,weight in cutFlow.items():\n",
    "    print(cut,'eff = %1.3f' %(weight/totalweight))"
   ]
  },
  {
   "cell_type": "markdown",
   "id": "8fdd670c",
   "metadata": {},
   "source": [
    "## Plot Results"
   ]
  },
  {
   "cell_type": "code",
   "execution_count": 31,
   "id": "a7b533e6",
   "metadata": {},
   "outputs": [
    {
     "data": {
      "image/png": "[encoded data removed]",
      "text/plain": [
       "<Figure size 576x432 with 1 Axes>"
      ]
     },
     "metadata": {},
     "output_type": "display_data"
    }
   ],
   "source": [
    "lum2017 = 41.5 #fb^-1\n",
    "fig = plt.figure(figsize=(8,6))\n",
    "plt.hist(pTj1,bins=25,weights=weights*1e3*lum2017)\n",
    "plt.title(r'$\\mathcal{L} = %1.1f$ fb$^{-1}$ (2017), $\\epsilon$(pre) = %1.3f' \n",
    "          %(lum2017,list(cutFlow.values())[-1]/totalweight))\n",
    "plt.xlabel(r'$p_{T}(j_{1})$ (GeV)')\n",
    "plt.ylabel('Events')\n",
    "plt.yscale('log')\n",
    "textstr = '\\n'.join((\n",
    "    r'$m_{med} =$ %1.0f GeV' %mMed, \n",
    "    r'$m_{DM} =$ %1.0f GeV' %mDM,\n",
    "    r'$g_{q}^{V}=$ %1.2f, $g_{q}^{A}=$ %1.2f' % (gVq, gAq),\n",
    "    r'$g_{\\chi}^{V}=$ %1.2f, $g_{\\chi}^{A}=$ %1.2f' % (gVx, gAx)))\n",
    "plt.text(0.6,0.7,textstr,fontsize=16,bbox=dict(facecolor='none', edgecolor='black'),\n",
    "         transform = plt.gca().transAxes)\n",
    "plt.show()"
   ]
  },
  {
   "cell_type": "markdown",
   "id": "16987409",
   "metadata": {},
   "source": [
    "# Get official CMS data"
   ]
  },
  {
   "cell_type": "code",
   "execution_count": 36,
   "id": "d54f5317",
   "metadata": {},
   "outputs": [],
   "source": [
    "pickleFile = '../monoJet/CMS-EXO-20-004-data/Signaltemplates_DMsimp_spin-1_Monojet_DF.pcl'\n",
    "df = pd.read_pickle(pickleFile)"
   ]
  },
  {
   "cell_type": "markdown",
   "id": "ce8d210b",
   "metadata": {},
   "source": [
    "### Filter model"
   ]
  },
  {
   "cell_type": "code",
   "execution_count": 92,
   "id": "c61cce77",
   "metadata": {},
   "outputs": [],
   "source": [
    "if gAx:\n",
    "    dfModel = df[(df[\"$m_{med}$\"] == mMed) & (df[\"$m_{DM}$\"] == mDM) \n",
    "                 & (df['Mode'] == 'DM+QCDjets') & (df['Data-takingperiod'] == 2017)\n",
    "                 & (df[\"Coupling\"] == \"Axial\")]\n",
    "elif gVx:\n",
    "    dfModel = df[(df[\"$m_{med}$\"] == mMed) & (df[\"$m_{DM}$\"] == mDM) \n",
    "                 & (df['Mode'] == 'DM+QCDjets') & (df['Data-takingperiod'] == 2017)\n",
    "                 & (df[\"Coupling\"] == \"Vector\")]\n",
    "\n",
    "if len(dfModel) != 1:\n",
    "    print('%i data rows selected' %(len(dfModel)))"
   ]
  },
  {
   "cell_type": "code",
   "execution_count": 93,
   "id": "bc1afa7d",
   "metadata": {},
   "outputs": [],
   "source": [
    "bins = {c : eval(c.split('_')[1]) for c in dfModel.columns if \"bin_\" in c}\n",
    "cmsData = {c : dfModel[c].iloc[0] for c in bins}\n",
    "rightBin = 2000.\n",
    "binCenter = (np.array(list(bins.values()))+np.diff(list(bins.values())+[rightBin])/2).tolist()"
   ]
  },
  {
   "cell_type": "code",
   "execution_count": 96,
   "id": "5821c84c",
   "metadata": {},
   "outputs": [
    {
     "data": {
      "image/png": "[encoded data removed]",
      "text/plain": [
       "<Figure size 576x432 with 1 Axes>"
      ]
     },
     "metadata": {},
     "output_type": "display_data"
    }
   ],
   "source": [
    "lum2017 = 41.5 #fb^-1\n",
    "fig = plt.figure(figsize=(8,6))\n",
    "plt.hist(pTj1,bins=list(bins.values())+[rightBin],weights=weights*1e3*lum2017)\n",
    "plt.scatter(x=binCenter,y=list(cmsData.values()),s=30,c='black')\n",
    "plt.title(r'$\\mathcal{L} = %1.1f$ fb$^{-1}$ (2017), $\\epsilon$(pre) = %1.3f' \n",
    "          %(lum2017,list(cutFlow.values())[-1]/totalweight))\n",
    "plt.xlabel(r'$p_{T}(j_{1})$ (GeV)')\n",
    "plt.ylabel('Events')\n",
    "plt.yscale('log')\n",
    "textstr = '\\n'.join((\n",
    "    r'$m_{med} =$ %1.0f GeV' %mMed, \n",
    "    r'$m_{DM} =$ %1.0f GeV' %mDM,\n",
    "    r'$g_{q}^{V}=$ %1.2f, $g_{q}^{A}=$ %1.2f' % (gVq, gAq),\n",
    "    r'$g_{\\chi}^{V}=$ %1.2f, $g_{\\chi}^{A}=$ %1.2f' % (gVx, gAx)))\n",
    "plt.text(0.6,0.7,textstr,fontsize=16,bbox=dict(facecolor='none', edgecolor='black'),\n",
    "         transform = plt.gca().transAxes)\n",
    "plt.show()"
   ]
  },
  {
   "cell_type": "code",
   "execution_count": null,
   "id": "ef9a1b72",
   "metadata": {},
   "outputs": [],
   "source": []
  }
 ],
 "metadata": {
  "kernelspec": {
   "display_name": "Python 3",
   "language": "python",
   "name": "python3"
  },
  "language_info": {
   "codemirror_mode": {
    "name": "ipython",
    "version": 3
   },
   "file_extension": ".py",
   "mimetype": "text/x-python",
   "name": "python",
   "nbconvert_exporter": "python",
   "pygments_lexer": "ipython3",
   "version": "3.9.7"
  }
 },
 "nbformat": 4,
 "nbformat_minor": 5
}

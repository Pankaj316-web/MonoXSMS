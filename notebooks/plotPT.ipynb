{
 "cells": [
  {
   "cell_type": "code",
   "execution_count": 1,
   "id": "73c69e33",
   "metadata": {},
   "outputs": [
    {
     "name": "stdout",
     "output_type": "stream",
     "text": [
      "Welcome to JupyROOT 6.24/06\n"
     ]
    }
   ],
   "source": [
    "import sys,os,glob,copy\n",
    "sys.path.append('../')\n",
    "import numpy as np\n",
    "from numpy.linalg import norm\n",
    "from matplotlib import pyplot as plt\n",
    "import seaborn as sns\n",
    "from scipy.interpolate import LinearNDInterpolator,interp2d\n",
    "import matplotlib as mpl\n",
    "from matplotlib.colors import LogNorm\n",
    "from IPython.display import display, Markdown\n",
    "import pylhe\n",
    "import pyslha\n",
    "import ROOT\n",
    "\n",
    "ROOT.gSystem.Load(os.path.abspath(\"/home/lessa/MonoXSMS/MG5/Delphes/libDelphes.so\"))\n",
    "\n",
    "ROOT.gInterpreter.Declare('#include \"classes/SortableObject.h\"')\n",
    "ROOT.gInterpreter.Declare('#include \"classes/DelphesClasses.h\"')\n",
    "ROOT.gInterpreter.Declare('#include \"external/ExRootAnalysis/ExRootTreeReader.h\"')\n",
    "\n",
    "plt.rcParams.update({\n",
    "    \"text.usetex\": True,\n",
    "    \"font.family\": \"sans-serif\",\n",
    "    \"font.sans-serif\": [\"Helvetica\"]})\n",
    "\n",
    "plt.rcParams.update({\"savefig.dpi\" : 300}) #Figure resolution\n",
    "\n",
    "\n",
    "#Define plotting style:\n",
    "sns.set() #Set style\n",
    "sns.set_style('ticks',{'font.family':'Times New Roman', 'font.serif':'Times New Roman'})\n",
    "sns.set_context('paper', font_scale=1.8)\n",
    "cm = plt.cm.get_cmap('RdYlBu')"
   ]
  },
  {
   "cell_type": "code",
   "execution_count": 2,
   "id": "f4236190",
   "metadata": {},
   "outputs": [],
   "source": [
    "parameters = pyslha.readSLHAFile('./DMSimp_monojet_Vector/Cards/param_card.dat')\n",
    "mMed = parameters.blocks['MASS'][55]\n",
    "mDM = parameters.blocks['MASS'][52]\n",
    "gVq = parameters.blocks['DMINPUTS'][4] # Mediator-quark vector coupling\n",
    "gAq = parameters.blocks['DMINPUTS'][10] # Mediator-quark axial coupling\n",
    "gVx = parameters.blocks['DMINPUTS'][2] # Mediator-DM vector coupling\n",
    "gAx = parameters.blocks['DMINPUTS'][3] # Mediator-DM axial coupling"
   ]
  },
  {
   "cell_type": "code",
   "execution_count": 3,
   "id": "05dc981b",
   "metadata": {},
   "outputs": [],
   "source": [
    "inputFiles = {'point1' : './test.root'}\n",
    "xsecsPB = {'point1' : 1.553e+02}"
   ]
  },
  {
   "cell_type": "code",
   "execution_count": 4,
   "id": "a1f07246",
   "metadata": {},
   "outputs": [],
   "source": [
    "# Cuts \n",
    "## jets\n",
    "pTmin = 250.\n",
    "etamax = 2.4\n",
    "nMin = 1\n",
    "## MET\n",
    "minMET = 250.\n",
    "## Electrons\n",
    "pTmin_el = 10.\n",
    "etamax_el = 2.5\n",
    "nMax_el = 0\n",
    "## Muons\n",
    "pTmin_mu = 10.\n",
    "etamax_mu = 2.4\n",
    "nMax_mu = 0\n"
   ]
  },
  {
   "cell_type": "code",
   "execution_count": 23,
   "id": "30ec0a1d",
   "metadata": {},
   "outputs": [],
   "source": [
    "pTj1 = []\n",
    "weights = []\n",
    "for label,inputFile in inputFiles.items():\n",
    "\n",
    "    f = ROOT.TFile(inputFile,'read')\n",
    "    tree = f.Get(\"Delphes\")\n",
    "    nevts = tree.GetEntries()\n",
    "    \n",
    "    for ievt in range(nevts):    \n",
    "        tree.GetEntry(ievt)        \n",
    "\n",
    "#        particles = tree.Particle\n",
    "        jets = tree.Jet\n",
    "        weight = xsecsPB[label]/nevts\n",
    "\n",
    "        missingET = tree.MissingET.At(0)\n",
    "        electrons = tree.Electron\n",
    "        muons = tree.Electron\n",
    "\n",
    "        \n",
    "        \n",
    "        # Cut on MET\n",
    "#         if missingET.MET < minMET:\n",
    "#             continue\n",
    "            \n",
    "        # Filter electrons:\n",
    "        electronList = []\n",
    "        for iel in range(electrons.GetEntries()):\n",
    "            electron = electrons.At(iel)\n",
    "            if electron.PT < pTmin_el:\n",
    "                continue\n",
    "            if abs(electron.Eta) > etamax_el:\n",
    "                continue\n",
    "            electronList.append(electron)\n",
    "        \n",
    "        # Veto electrons\n",
    "        if len(electronList) > nMax_el:\n",
    "            continue\n",
    "\n",
    "        # Filter muons:\n",
    "        muonList = []\n",
    "        for imu in range(muons.GetEntries()):\n",
    "            muon = muon.At(imu)\n",
    "            if muon.PT < pTmin_mu:\n",
    "                continue\n",
    "            if abs(muon.Eta) > etamax_mu:\n",
    "                continue\n",
    "            muonList.append(muon)\n",
    "        \n",
    "        # Veto muons\n",
    "#         if len(muonList) > nMax_mu:\n",
    "#             continue\n",
    "\n",
    "        # Filter jets\n",
    "        jetList = []\n",
    "        for ijet in range(jets.GetEntries()):\n",
    "            jet = jets.At(ijet)\n",
    "            if jet.PT < pTmin:\n",
    "                continue\n",
    "            if abs(jet.Eta) > etamax:\n",
    "                continue\n",
    "            jetList.append(jet)\n",
    "            \n",
    "        # Veto zero jet events\n",
    "        if len(jetList) < nMin:\n",
    "            continue\n",
    "        jetList = sorted(jetList, key = lambda j: j.PT, reverse=True)\n",
    "        \n",
    "        pTj1.append(jetList[0].PT)\n",
    "        weights.append(weight)\n",
    "\n",
    "weights = np.array(weights)\n",
    "pTj1 = np.array(pTj1)"
   ]
  },
  {
   "cell_type": "code",
   "execution_count": 65,
   "id": "a7b533e6",
   "metadata": {},
   "outputs": [
    {
     "data": {
      "image/png": "[encoded data removed]",
      "text/plain": [
       "<Figure size 576x432 with 1 Axes>"
      ]
     },
     "metadata": {},
     "output_type": "display_data"
    }
   ],
   "source": [
    "lum2017 = 41.5 #fb^-1\n",
    "fig = plt.figure(figsize=(8,6))\n",
    "plt.hist(pTj1,bins=25,weights=weights*1e3*lum2017)\n",
    "plt.title(r'$\\mathcal{L} = %1.1f$ fb$^{-1}$ (2017), $\\epsilon$(pre) = %1.3f' %(lum2017,len(pTj1)/nevts))\n",
    "plt.xlabel(r'$p_{T}(j_{1})$ (GeV)')\n",
    "plt.ylabel('Events')\n",
    "plt.yscale('log')\n",
    "textstr = '\\n'.join((\n",
    "    r'$m_{med} =$ %1.0f GeV' %mMed, \n",
    "    r'$m_{DM} =$ %1.0f GeV' %mDM,\n",
    "    r'$g_{q}^{V}=$ %1.2f, $g_{q}^{A}=$ %1.2f' % (gVq, gAq),\n",
    "    r'$g_{\\chi}^{V}=$ %1.2f, $g_{\\chi}^{A}=$ %1.2f' % (gVx, gAx)))\n",
    "plt.text(650,3e4,textstr,fontsize=16,bbox=dict(facecolor='none', edgecolor='black'))\n",
    "plt.show()"
   ]
  },
  {
   "cell_type": "code",
   "execution_count": null,
   "id": "b53e8f45",
   "metadata": {},
   "outputs": [],
   "source": []
  }
 ],
 "metadata": {
  "kernelspec": {
   "display_name": "Python 3",
   "language": "python",
   "name": "python3"
  },
  "language_info": {
   "codemirror_mode": {
    "name": "ipython",
    "version": 3
   },
   "file_extension": ".py",
   "mimetype": "text/x-python",
   "name": "python",
   "nbconvert_exporter": "python",
   "pygments_lexer": "ipython3",
   "version": "3.9.7"
  }
 },
 "nbformat": 4,
 "nbformat_minor": 5
}

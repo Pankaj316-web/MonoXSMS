{
 "cells": [
  {
   "cell_type": "code",
   "execution_count": 1,
   "id": "73c69e33",
   "metadata": {},
   "outputs": [
    {
     "name": "stdout",
     "output_type": "stream",
     "text": [
      "Welcome to JupyROOT 6.24/06\n"
     ]
    }
   ],
   "source": [
    "import sys,os,glob,copy\n",
    "sys.path.append('../')\n",
    "import numpy as np\n",
    "from numpy.linalg import norm\n",
    "import pandas as pd\n",
    "from matplotlib import pyplot as plt\n",
    "import seaborn as sns\n",
    "from scipy.interpolate import LinearNDInterpolator,interp2d\n",
    "import matplotlib as mpl\n",
    "from matplotlib.colors import LogNorm\n",
    "from IPython.display import display, Markdown\n",
    "from collections import OrderedDict\n",
    "import pylhe\n",
    "import glob\n",
    "import pyslha\n",
    "import ROOT\n",
    "import xml.etree.ElementTree as ET\n",
    "\n",
    "\n",
    "plt.rcParams.update({\n",
    "    \"text.usetex\": True,\n",
    "    \"font.family\": \"sans-serif\",\n",
    "    \"font.sans-serif\": [\"Helvetica\"]})\n",
    "\n",
    "plt.rcParams.update({\"savefig.dpi\" : 300}) #Figure resolution\n",
    "\n",
    "\n",
    "#Define plotting style:\n",
    "sns.set() #Set style\n",
    "sns.set_style('ticks',{'font.family':'Times New Roman', 'font.serif':'Times New Roman'})\n",
    "sns.set_context('paper', font_scale=1.8)\n",
    "cm = plt.cm.get_cmap('RdYlBu')"
   ]
  },
  {
   "cell_type": "code",
   "execution_count": 2,
   "id": "7b3aa461",
   "metadata": {},
   "outputs": [],
   "source": [
    "def readNumEvents(file):\n",
    "    \"\"\"\n",
    "    Moderately efficent way to get the number of events stored in file.\n",
    "    \"\"\"\n",
    "    \n",
    "    with pylhe._extract_fileobj(file) as fileobj:\n",
    "        nevts = sum(element.tag == \"event\" for event, element in ET.iterparse(fileobj, events=[\"end\"]))\n",
    "    return nevts"
   ]
  },
  {
   "cell_type": "markdown",
   "id": "87622e4a",
   "metadata": {},
   "source": [
    "# Set LHE output files"
   ]
  },
  {
   "cell_type": "code",
   "execution_count": 3,
   "id": "030fc287",
   "metadata": {},
   "outputs": [],
   "source": [
    "inputFiles = {'noBias' : '../testCuts_LO_1j/Events/run_01/unweighted_events.lhe.gz'}"
   ]
  },
  {
   "cell_type": "code",
   "execution_count": 4,
   "id": "7b74a1e5",
   "metadata": {},
   "outputs": [],
   "source": [
    "events = {}\n",
    "nevents = {}\n",
    "for label,f in inputFiles.items():   \n",
    "    events[label] = pylhe.read_lhe_with_attributes(f)\n",
    "    nevents[label] = readNumEvents(f)"
   ]
  },
  {
   "cell_type": "markdown",
   "id": "1e952041",
   "metadata": {},
   "source": [
    "# Load Model Parameters"
   ]
  },
  {
   "cell_type": "code",
   "execution_count": 5,
   "id": "f4236190",
   "metadata": {},
   "outputs": [
    {
     "name": "stdout",
     "output_type": "stream",
     "text": [
      "noBias : mMed = 2000.00 GeV, mDM = 1.00 GeV\n"
     ]
    }
   ],
   "source": [
    "parameters = {}\n",
    "for label,file in inputFiles.items():\n",
    "    banner = sorted(glob.glob(os.path.dirname(file)+'/*banner.txt'),key=os.path.getmtime,reverse=True)\n",
    "    if len(banner) == 0:\n",
    "        print('Banner not found for %s' %label)\n",
    "    elif len(banner) > 1:        \n",
    "        print('\\n%i banner files found for %s. Using %s' \n",
    "              %(len(banner),label,os.path.basename(banner[0])))\n",
    "    banner = banner[0]\n",
    "    xtree = ET.parse(banner)\n",
    "    xroot = xtree.getroot()\n",
    "    slha = xroot.find('header').find('slha').text\n",
    "    pars = pyslha.readSLHA(slha)\n",
    "    mMed = pars.blocks['MASS'][55]\n",
    "    mDM = pars.blocks['MASS'][52]\n",
    "    gVq = pars.blocks['DMINPUTS'][4] # Mediator-quark vector coupling\n",
    "    gAq = pars.blocks['DMINPUTS'][10] # Mediator-quark axial coupling\n",
    "    gVx = pars.blocks['DMINPUTS'][2] # Mediator-DM vector coupling\n",
    "    gAx = pars.blocks['DMINPUTS'][3] # Mediator-DM axial coupling\n",
    "    parameters[label] = {'mMed' : mMed, 'mDM' : mDM, \n",
    "                         'gVq' : gVq, 'gAq' : gAq, 'gVx' : gVx, 'gAx' : gAx}\n",
    "    print(label,': mMed = %1.2f GeV, mDM = %1.2f GeV' %(mMed,mDM))"
   ]
  },
  {
   "cell_type": "markdown",
   "id": "58dbbed7",
   "metadata": {},
   "source": [
    "# Load events, apply cuts and store relevant info"
   ]
  },
  {
   "cell_type": "markdown",
   "id": "def25a2b",
   "metadata": {},
   "source": [
    "## Cuts"
   ]
  },
  {
   "cell_type": "code",
   "execution_count": 6,
   "id": "96ca5f56",
   "metadata": {},
   "outputs": [],
   "source": [
    "## jets\n",
    "pTj1min = 100.\n",
    "pTjmin = 25.\n",
    "etamax = 2.4\n",
    "## MET\n",
    "minMET = 250.\n",
    "## Electrons\n",
    "pTmin_el = 10.\n",
    "etamax_el = 2.5\n",
    "nMax_el = 0\n",
    "## Muons\n",
    "pTmin_mu = 10.\n",
    "etamax_mu = 2.4\n",
    "nMax_mu = 0\n"
   ]
  },
  {
   "cell_type": "code",
   "execution_count": 8,
   "id": "30ec0a1d",
   "metadata": {},
   "outputs": [],
   "source": [
    "weights = {label : np.array([]) for label in inputFiles}\n",
    "met = {label : np.array([]) for label in inputFiles}\n",
    "njets = {label : np.array([]) for label in inputFiles}\n",
    "totalweight = {label : 0 for label in inputFiles}\n",
    "\n",
    "for label,evts in events.items():\n",
    "   \n",
    "    nevts = nevents[label]\n",
    "    parameters[label]['Events'] = nevts\n",
    "    \n",
    "    for event in evts:\n",
    "\n",
    "        particles = event.particles\n",
    "       \n",
    "        jets = [p for p in particles if abs(p.id) in [1,2,3,4,5,21] and p.status == 1]\n",
    "        dm = [p for p in particles if abs(p.id) in [52] and p.status == 1]\n",
    "        electrons = [p for p in particles if abs(p.id) in [11] and p.status == 1]\n",
    "        muons = [p for p in particles if abs(p.id) in [13] and p.status == 1]\n",
    "        \n",
    "        if len(dm) != 2:\n",
    "            continue\n",
    "            \n",
    "            \n",
    "        weight = event.eventinfo.weight/nevts\n",
    "        totalweight[label] += weight\n",
    "            \n",
    "        # Filter jets\n",
    "        jetList = []\n",
    "        for j in jets:\n",
    "            pT = np.sqrt(j.px**2+j.py**2)\n",
    "            p = np.sqrt(j.px**2+j.py**2+j.pz**2)\n",
    "            pL = j.pz\n",
    "            eta = 0.5*np.log((p+pL)/(p-pL))\n",
    "            \n",
    "            if pT < pTjmin:\n",
    "                continue\n",
    "            if np.abs(eta) > etamax:\n",
    "                continue\n",
    "            jetList.append(j)\n",
    "        jetList = sorted(jetList, key = lambda j: np.sqrt(j.px**2+j.py**2), reverse=True)          \n",
    "        \n",
    "            \n",
    "        # Filter electrons\n",
    "        electronList = []\n",
    "        for el in electrons:\n",
    "            pT = np.sqrt(el.px**2+el.py**2)\n",
    "            p = np.sqrt(el.px**2+el.py**2+el.pz**2)\n",
    "            pL = el.pz\n",
    "            eta = 0.5*np.log((p+pL)/(p-pL))\n",
    "            \n",
    "            if pT < pTmin_el:\n",
    "                continue\n",
    "            if np.abs(eta) > etamax_el:\n",
    "                continue\n",
    "            electronList.append(el)\n",
    "        electronList = sorted(electronList, key = lambda j: np.sqrt(j.px**2+j.py**2), reverse=True)                                    \n",
    "        \n",
    "        # Filter muons\n",
    "        muonList = []\n",
    "        for mu in muons:\n",
    "            pT = np.sqrt(mu.px**2+mu.py**2)\n",
    "            p = np.sqrt(mu.px**2+mu.py**2+mu.pz**2)\n",
    "            pL = mu.pz\n",
    "            eta = 0.5*np.log((p+pL)/(p-pL))\n",
    "            \n",
    "            if pT < pTmin_mu:\n",
    "                continue\n",
    "            if np.abs(eta) > etamax_mu:\n",
    "                continue\n",
    "            muonList.append(mu)\n",
    "        muonList = sorted(muonList, key = lambda j: np.sqrt(j.px**2+j.py**2), reverse=True)                                            \n",
    "              \n",
    "        # Compute MET\n",
    "        MET = np.sqrt((dm[0].px+dm[1].px)**2 + (dm[0].py+dm[1].py)**2)\n",
    "        \n",
    "        \n",
    "        # Store relevant data        \n",
    "        njets[label] = np.append(njets[label],len(jets))\n",
    "        weights[label] = np.append(weights[label],weight)\n",
    "        met[label] = np.append(met[label],MET)\n"
   ]
  },
  {
   "cell_type": "code",
   "execution_count": 9,
   "id": "af245f53",
   "metadata": {},
   "outputs": [
    {
     "name": "stdout",
     "output_type": "stream",
     "text": [
      "noBias total cross-section = 1.131e-01 pb\n"
     ]
    }
   ],
   "source": [
    "for label,w in totalweight.items():\n",
    "    print(label,'total cross-section = %1.3e pb' %w)\n",
    "colors = {label : sns.color_palette('deep')[i+1] for i,label in enumerate(weights.keys())}    "
   ]
  },
  {
   "cell_type": "code",
   "execution_count": 10,
   "id": "4eab6b93",
   "metadata": {},
   "outputs": [
    {
     "data": {
      "image/png": "[encoded data removed]",
      "text/plain": [
       "<Figure size 576x432 with 1 Axes>"
      ]
     },
     "metadata": {},
     "output_type": "display_data"
    }
   ],
   "source": [
    "fig = plt.figure(figsize=(8,6))\n",
    "for label,pt in njets.items():\n",
    "    plt.hist(pt,bins=np.linspace(0,10,11),label=label,histtype='step',\n",
    "             weights=weights[label],linewidth=2,color=colors[label])\n",
    "# plt.yscale('log')\n",
    "# plt.ylim(1e-5,1)\n",
    "# plt.xlim(0,2000)\n",
    "plt.legend()\n",
    "plt.show()"
   ]
  },
  {
   "cell_type": "code",
   "execution_count": 11,
   "id": "504b9f73",
   "metadata": {},
   "outputs": [
    {
     "data": {
      "image/png": "[encoded data removed]",
      "text/plain": [
       "<Figure size 720x432 with 1 Axes>"
      ]
     },
     "metadata": {},
     "output_type": "display_data"
    }
   ],
   "source": [
    "fig = plt.figure(figsize=(10,6))\n",
    "for label,metPts in met.items():\n",
    "    binc,binEdges,patches = plt.hist(metPts,bins=np.linspace(0,5000,101),\n",
    "                               label=label,histtype='step',color=colors[label],\n",
    "                               weights=weights[label],linewidth=2)\n",
    "    errorc2,_ = np.histogram(metPts,bins=binEdges,weights=weights[label]**2)\n",
    "    errorc = np.sqrt(errorc2)\n",
    "    binCenter = (binEdges[0:-1]+binEdges[1:])/2.\n",
    "    plt.errorbar(binCenter,binc,yerr = errorc, marker = '.', \n",
    "                 drawstyle = 'steps-mid',color=colors[label])\n",
    "\n",
    "    \n",
    "plt.yscale('log')\n",
    "# plt.ylim(1e-3,1)\n",
    "plt.xlabel(r'$p_T^{miss}$ (GeV)')\n",
    "plt.ylabel(r'$\\frac{d\\sigma}{d p_T^{miss}}$ (pb)')\n",
    "plt.xlim(0,1500)\n",
    "plt.legend()\n",
    "plt.show()"
   ]
  },
  {
   "cell_type": "code",
   "execution_count": 12,
   "id": "93e97c19",
   "metadata": {},
   "outputs": [
    {
     "name": "stdout",
     "output_type": "stream",
     "text": [
      "150.01266437867127\n"
     ]
    }
   ],
   "source": [
    "print(metPts.min())"
   ]
  },
  {
   "cell_type": "markdown",
   "id": "1669aaba",
   "metadata": {},
   "source": [
    "# Get official CMS data"
   ]
  },
  {
   "cell_type": "code",
   "execution_count": null,
   "id": "b96beef1",
   "metadata": {},
   "outputs": [],
   "source": [
    "pickleFile = '../monoJet/CMS-EXO-20-004-data/Signaltemplates_DMsimp_spin-1_Monojet_DF.pcl'\n",
    "df = pd.read_pickle(pickleFile)"
   ]
  },
  {
   "cell_type": "markdown",
   "id": "6a243c79",
   "metadata": {},
   "source": [
    "### Filter model"
   ]
  },
  {
   "cell_type": "code",
   "execution_count": null,
   "id": "d71433c9",
   "metadata": {},
   "outputs": [],
   "source": [
    "if gAx:\n",
    "    dfModel = df[(df[\"$m_{med}$\"] == mMed) & (df[\"$m_{DM}$\"] == mDM) \n",
    "                 & (df['Mode'] == 'DM+QCDjets') & (df['Data-takingperiod'] == 2017)\n",
    "                 & (df[\"Coupling\"] == \"Axial\")]\n",
    "elif gVx:\n",
    "    dfModel = df[(df[\"$m_{med}$\"] == mMed) & (df[\"$m_{DM}$\"] == mDM) \n",
    "                 & (df['Mode'] == 'DM+QCDjets') & (df['Data-takingperiod'] == 2017)\n",
    "                 & (df[\"Coupling\"] == \"Vector\")]\n",
    "\n",
    "if len(dfModel) != 1:\n",
    "    print('%i data rows selected' %(len(dfModel)))"
   ]
  },
  {
   "cell_type": "code",
   "execution_count": null,
   "id": "1692cdc1",
   "metadata": {},
   "outputs": [],
   "source": [
    "bins = {c : eval(c.split('_')[1]) for c in dfModel.columns if \"bin_\" in c}\n",
    "cmsData = {c : dfModel[c].iloc[0] for c in bins}\n",
    "rightBin = 2000.\n",
    "binCenter = (np.array(list(bins.values()))+np.diff(list(bins.values())+[rightBin])/2).tolist()\n",
    "\n",
    "# Plot CMS data\n",
    "cmsValues = np.array(list(cmsData.values()))"
   ]
  },
  {
   "cell_type": "markdown",
   "id": "8fdd670c",
   "metadata": {},
   "source": [
    "## Plot Results"
   ]
  },
  {
   "cell_type": "code",
   "execution_count": null,
   "id": "a7b533e6",
   "metadata": {},
   "outputs": [],
   "source": [
    "lum2017 = 41.5 #fb^-1\n",
    "kfactor = 1.2 # NLO (approx) k-factor\n",
    "weightY = {label : w*1e3*lum2017*kfactor for label,w in weights.items()} # weights for the Yield\n",
    "\n",
    "\n",
    "f, axarr = plt.subplots(2,sharex=True, gridspec_kw = {'height_ratios':[2, 1]},figsize=(10,8))\n",
    "plt.subplots_adjust(left=0.12, bottom=0.12, right=0.97, top=None, wspace=None, hspace=0.1)\n",
    "\n",
    "for label,metPts in met.items():\n",
    "#     if label != 'noBias': continue\n",
    "    # Plot MC bins\n",
    "    binc,binEdges,_= axarr[0].hist(metPts,bins=list(bins.values())+[rightBin],\n",
    "                                   label=label,linewidth=2,\n",
    "                                   weights=weightY[label],histtype='step',color=colors[label])\n",
    "    errorc2,_ = np.histogram(metPts,bins=binEdges,weights=weightY[label]**2)\n",
    "    errorc = np.sqrt(errorc2)\n",
    "    axarr[0].errorbar(binCenter,binc,yerr = errorc, marker = '.', elinewidth=1.0,\n",
    "                 drawstyle = 'steps-mid',color=colors[label],linewidth=0.0)\n",
    "\n",
    "    \n",
    "    relDiff = (binc-cmsValues)/cmsValues\n",
    "    ratio = binc/cmsValues\n",
    "    relDiffErr = np.abs(binc-cmsValues)/errorc\n",
    "    #Plot ratio\n",
    "    axarr[1].plot(binCenter,relDiffErr,linewidth=3.0,color=colors[label])\n",
    "    \n",
    "    \n",
    "# Plot CMS data\n",
    "cmsValues = np.array(list(cmsData.values()))\n",
    "axarr[0].scatter(x=binCenter,y=cmsValues,s=30,c='black')\n",
    "axarr[0].set_yscale('log')\n",
    "axarr[0].set_ylabel('Events')\n",
    "axarr[0].set_ylim(0.5,3e2)\n",
    "\n",
    "\n",
    "# axarr[1].axhline(y=1.)\n",
    "axarr[1].set_ylim(0.0,3)\n",
    "# axarr[1].set_yticks([0.25,0.5,0.75,1.0,1.25,1.5])\n",
    "# axarr[1].set_yscale('log')\n",
    "# axarr[1].set_ylabel('Relative Diff.', fontsize=18) #Y-label\n",
    "axarr[1].set_ylabel(r'$\\frac{\\mbox{(CMS-Recast)}}{\\mbox{MC Error}}$', fontsize=14) #Y-label\n",
    "axarr[1].grid(True)\n",
    "axarr[1].set_xlabel(r'$p_{T}^{miss}$ (GeV)')\n",
    "\n",
    "#     axarr[0].set_title(r'$\\mathcal{L} = %1.1f$ fb$^{-1}$ (2017), $\\epsilon$(pre) = %1.3f, k-factor = %1.2f' \n",
    "#               %(lum2017,list(cutFlow.values())[-1]/totalweight,kfactor))\n",
    "textstr = '\\n'.join((\n",
    "    r'$m_{med} =$ %1.0f GeV' %mMed, \n",
    "    r'$m_{DM} =$ %1.0f GeV' %mDM,\n",
    "    r'$g_{q}^{V}=$ %1.2f, $g_{q}^{A}=$ %1.2f' % (gVq, gAq),\n",
    "    r'$g_{\\chi}^{V}=$ %1.2f, $g_{\\chi}^{A}=$ %1.2f' % (gVx, gAx)))\n",
    "plt.text(0.5,2.3,textstr,fontsize=16,bbox=dict(facecolor='none', edgecolor='black'),\n",
    "         transform = plt.gca().transAxes)\n",
    "axarr[0].legend()\n",
    "axarr[0].set_title('k-factor = %1.2f' %kfactor)\n",
    "plt.show()"
   ]
  },
  {
   "cell_type": "code",
   "execution_count": null,
   "id": "dd417359",
   "metadata": {},
   "outputs": [],
   "source": [
    "lum2017 = 41.5 #fb^-1\n",
    "kfactor = 1.25 # NLO (approx) k-factor\n",
    "weightY = {label : w*1e3*lum2017*kfactor for label,w in weights.items()} # weights for the Yield\n",
    "\n",
    "\n",
    "f, axarr = plt.subplots(2,sharex=True, gridspec_kw = {'height_ratios':[2, 1]},figsize=(10,8))\n",
    "plt.subplots_adjust(left=0.12, bottom=0.12, right=0.97, top=None, wspace=None, hspace=0.1)\n",
    "\n",
    "for label,metPts in met.items():\n",
    "#     if label != 'noBias': continue\n",
    "    # Plot MC bins\n",
    "    binc,binEdges,_= axarr[0].hist(metPts,bins=list(bins.values())+[rightBin],\n",
    "                                   label=label,linewidth=2,\n",
    "                                   weights=weightY[label],histtype='step',color=colors[label])\n",
    "    errorc2,_ = np.histogram(metPts,bins=binEdges,weights=weightY[label]**2)\n",
    "    errorc = np.sqrt(errorc2)\n",
    "    axarr[0].errorbar(binCenter,binc,yerr = errorc, marker = '.', elinewidth=1.0,\n",
    "                 drawstyle = 'steps-mid',color=colors[label],linewidth=0.0)\n",
    "\n",
    "    \n",
    "    relDiff = (binc-cmsValues)/cmsValues\n",
    "    ratio = binc/cmsValues\n",
    "    relDiffErr = np.abs(binc-cmsValues)/errorc\n",
    "    #Plot ratio\n",
    "#     axarr[1].plot(binCenter,relDiffErr,linewidth=3.0,color=colors[label])\n",
    "    axarr[1].plot(binCenter,relDiff,linewidth=3.0,color=colors[label])\n",
    "    \n",
    "    \n",
    "# Plot CMS data\n",
    "cmsValues = np.array(list(cmsData.values()))\n",
    "axarr[0].scatter(x=binCenter,y=cmsValues,s=30,c='black')\n",
    "axarr[0].set_yscale('log')\n",
    "axarr[0].set_ylabel('Events')\n",
    "axarr[0].set_ylim(0.5,3e2)\n",
    "\n",
    "\n",
    "# axarr[1].axhline(y=1.)\n",
    "axarr[1].set_ylim(-0.5,1.5)\n",
    "# axarr[1].set_yticks([0.25,0.5,0.75,1.0,1.25,1.5])\n",
    "# axarr[1].set_yscale('log')\n",
    "axarr[1].set_ylabel('Relative Diff.', fontsize=18) #Y-label\n",
    "# axarr[1].set_ylabel(r'$\\frac{\\mbox{(CMS-Recast)}}{\\mbox{MC Error}}$', fontsize=14) #Y-label\n",
    "axarr[1].grid(True)\n",
    "axarr[1].set_xlabel(r'$p_{T}^{miss}$ (GeV)')\n",
    "\n",
    "#     axarr[0].set_title(r'$\\mathcal{L} = %1.1f$ fb$^{-1}$ (2017), $\\epsilon$(pre) = %1.3f, k-factor = %1.2f' \n",
    "#               %(lum2017,list(cutFlow.values())[-1]/totalweight,kfactor))\n",
    "textstr = '\\n'.join((\n",
    "    r'$m_{med} =$ %1.0f GeV' %mMed, \n",
    "    r'$m_{DM} =$ %1.0f GeV' %mDM,\n",
    "    r'$g_{q}^{V}=$ %1.2f, $g_{q}^{A}=$ %1.2f' % (gVq, gAq),\n",
    "    r'$g_{\\chi}^{V}=$ %1.2f, $g_{\\chi}^{A}=$ %1.2f' % (gVx, gAx)))\n",
    "plt.text(0.5,2.3,textstr,fontsize=16,bbox=dict(facecolor='none', edgecolor='black'),\n",
    "         transform = plt.gca().transAxes)\n",
    "axarr[0].legend()\n",
    "axarr[0].set_title('k-factor = %1.2f' %kfactor)\n",
    "plt.show()"
   ]
  },
  {
   "cell_type": "code",
   "execution_count": null,
   "id": "3df4274b",
   "metadata": {},
   "outputs": [],
   "source": []
  }
 ],
 "metadata": {
  "kernelspec": {
   "display_name": "Python 3 (ipykernel)",
   "language": "python",
   "name": "python3"
  },
  "language_info": {
   "codemirror_mode": {
    "name": "ipython",
    "version": 3
   },
   "file_extension": ".py",
   "mimetype": "text/x-python",
   "name": "python",
   "nbconvert_exporter": "python",
   "pygments_lexer": "ipython3",
   "version": "3.9.7"
  }
 },
 "nbformat": 4,
 "nbformat_minor": 5
}

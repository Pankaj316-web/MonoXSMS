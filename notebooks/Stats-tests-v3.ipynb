{
 "cells": [
  {
   "cell_type": "code",
   "execution_count": 1,
   "metadata": {
    "ExecuteTime": {
     "end_time": "2022-11-11T02:32:15.094420Z",
     "start_time": "2022-11-11T02:32:15.090539Z"
    }
   },
   "outputs": [],
   "source": [
    "import pandas as pd\n",
    "import numpy as np\n",
    "import random\n",
    "import math\n",
    "import matplotlib.pyplot as plt\n",
    "from scipy.stats import poisson, norm, chi2, rv_continuous\n",
    "from scipy.special import gamma, factorial\n",
    "from scipy.optimize import fsolve, root, brentq, brenth, ridder, newton, minimize\n",
    "import seaborn as sns\n",
    "\n",
    "plt.rcParams.update({\n",
    "    \"text.usetex\": True,\n",
    "    \"font.family\": \"sans-serif\",\n",
    "    \"font.sans-serif\": [\"Helvetica\"],\n",
    "   \"figure.figsize\" : (6,5)})\n",
    "\n",
    "plt.rcParams.update({\"savefig.dpi\" : 300}) #Figure resolution\n",
    "\n",
    "\n",
    "#Define plotting style:\n",
    "sns.set() #Set style\n",
    "sns.set_style('ticks',{'font.family':'Times New Roman', 'font.serif':'Times New Roman'})\n",
    "sns.set_context('paper', font_scale=1.8)\n",
    "cm = plt.cm.get_cmap('RdYlBu')"
   ]
  },
  {
   "cell_type": "markdown",
   "metadata": {},
   "source": [
    "<h3>Step 1: Build likelihood function:</h3>\n",
    "The simplest Likelihood function (without considering nuisance parameters) is given by:\n",
    "\n",
    "$$ L(\\mu,\\theta) = \\frac{(\\mu s + b + \\theta)^{n}}{n!}e^{-(\\mu s + b + \\theta)} \\pi(\\theta)$$\n",
    "\n",
    "where $\\pi(\\theta)$ is the nuisance PDF taken to be given by:\n",
    "\n",
    "$$\n",
    "\\pi(\\theta) = \\frac{1}{\\sqrt{2\\pi}\\delta}e^{-\\frac{\\theta^2}{2\\delta^2}}\n",
    "$$\n",
    "where $\\delta$ is the background systematic uncertainty. Therefore:\n",
    "\n",
    "$$\n",
    "L(\\mu,\\theta) = \\frac{1}{\\sqrt{2\\pi}\\delta} \\frac{(\\mu s + b + \\theta)^{n}}{n!}e^{-(\\mu s + b + \\theta)}e^{-\\frac{\\theta^2}{2\\delta^2}}\n",
    "$$"
   ]
  },
  {
   "cell_type": "code",
   "execution_count": 2,
   "metadata": {
    "ExecuteTime": {
     "end_time": "2022-11-11T12:17:24.054245Z",
     "start_time": "2022-11-11T12:17:24.050162Z"
    }
   },
   "outputs": [],
   "source": [
    "# define factorial\n",
    "# likelihood function\n",
    "\n",
    "class theta_gen(rv_continuous):\n",
    "    \"\"\"\n",
    "    Distribution for nuiscance parameter.\n",
    "    (it can be used to generate random theta values based on the\n",
    "    piTheta function. But it is extremely slow, unless the _ppf is defined).\n",
    "    It has the following useful methods: .pdf (probability density function),\n",
    "    .cdf (cumulative density function), .ppf (percent point function or inverse of cdf),\n",
    "    .rvs (random number generator).\n",
    "    \"\"\"\n",
    "\n",
    "    def _pdf(self, theta, deltab):\n",
    "        return norm.pdf(theta,scale=deltab)\n",
    "    \n",
    "    def _cdf(self,theta,deltab):\n",
    "        return norm.cdf(theta,scale=deltab)    \n",
    "    \n",
    "    def _ppf(self,q,deltab):\n",
    "        return norm.ppf(q,scale=deltab)\n",
    "\n",
    "# Define nuisance instance:\n",
    "piTheta = theta_gen(name='piTheta')\n",
    "\n",
    "def likelihood(muTheta:list, n : int, nb : float, ns : float, deltab=0.0,nll=False) -> float:\n",
    "    '''\n",
    "    Obtain the Likelihood for a specific set of data\n",
    "    n : # observed of events\n",
    "    nb : # of background events\n",
    "    ns : # of signal events\n",
    "    mu : strength parameter\n",
    "    theta: nuisance parameter\n",
    "    deltab: uncertainty for the nuisance parameter\n",
    "    '''        \n",
    "    \n",
    "    mu,theta = muTheta\n",
    "        \n",
    "    ntot = nb + mu*ns + theta\n",
    "    # Make sure ntot is not negative:\n",
    "    ntot = max(0.,ntot)\n",
    "    prob = poisson.pmf(n, ntot)\n",
    "    if deltab > 0.:\n",
    "        prob = prob*piTheta.pdf(theta,deltab)\n",
    "    if nll:\n",
    "        return -np.log(prob)\n",
    "    else:\n",
    "        return prob\n",
    "    \n",
    "def thetaHat(mu:float, n : int, nb : float, ns : float, \n",
    "             deltab=0.0, tol=1e-2, method='analytic') -> (float,None):\n",
    "    \"\"\"\n",
    "    Returns the value of theta which maximizes the likelihood\n",
    "    for fixed values of mu,n,nb,ns and deltab.\n",
    "    \"\"\"\n",
    "    \n",
    "    if method == 'analytic':\n",
    "        ntot = mu*ns+nb\n",
    "        a = -(1./2.)*(deltab**2+ntot)\n",
    "        b = (1./2.)*np.sqrt((ntot-deltab**2)**2+4*deltab**2*n)\n",
    "        thetaH1 = a+b\n",
    "        thetaH2 = a-b\n",
    "        l1 = likelihood((mu,thetaH1),n,nb,ns,deltab)\n",
    "        l2 = likelihood((mu,thetaH2),n,nb,ns,deltab)\n",
    "        if l1 > l2:\n",
    "            return thetaH1\n",
    "        else:\n",
    "            return thetaH2\n",
    "  \n",
    "    #Initial guess for thetaHat:\n",
    "    thetaH = n-nb-mu*ns\n",
    "        \n",
    "    #Bounds for mu:\n",
    "    muMin = mu\n",
    "    muMax = mu\n",
    "    \n",
    "    r = minimize(likelihood,(mu,thetaH),args=(n,nb,ns,deltab,True),method='Nelder-Mead',\n",
    "             bounds=[(muMin,muMax),(None,None)],tol=tol)\n",
    "    \n",
    "    if not r.success:\n",
    "        return None\n",
    "    else:\n",
    "        muH,thetaH = r.x        \n",
    "        return thetaH\n",
    "    \n",
    "    \n",
    "    \n",
    "def muThetaHat(n : int, nb : float, ns : float, \n",
    "               deltab=0.0,tol=1e-2, allowNegativeMu=False,\n",
    "               method='analytic') -> (list,None):\n",
    "    \"\"\"\n",
    "    Returns the value of mu and theta which maximizes the likelihood\n",
    "    for fixed values of n,nb,ns and deltab.\n",
    "    \"\"\"\n",
    "    \n",
    "    if method == 'analytic':\n",
    "        muH = (n-nb)/ns        \n",
    "        thetaH = 0.0\n",
    "        if not allowNegativeMu and muH < 0.:\n",
    "            muH = 0.\n",
    "            thetaH = thetaHat(muH, n, nb, ns, deltab,\n",
    "                              method='analytic')\n",
    "        return muH,thetaH\n",
    "            \n",
    "    \n",
    "    \n",
    "    #Initial guess for muHat and thetaHat:\n",
    "    muH = (n - nb)/ns\n",
    "    # If muHat >0, we know thetaHat = 0.0\n",
    "    if muH >=0.:\n",
    "        thetaH = 0.0\n",
    "    # If muHat < 0.0, thetaHat will have to be negative\n",
    "    # (as a first guess use muHat = 0., thetaHat = (n-nb)\n",
    "    else:\n",
    "        thetaH = n-nb\n",
    "        muH = 0.0\n",
    "        \n",
    "    #Bounds for mu:\n",
    "    muMin,muMax = None,None\n",
    "    if not allowNegativeMu:\n",
    "        muMin = 0.0\n",
    "    \n",
    "    r = minimize(likelihood,(muH,thetaH),args=(n,nb,ns,deltab,True),\n",
    "                 method='Nelder-Mead',\n",
    "                 bounds=[(muMin,muMax),(None,None)],tol=tol)\n",
    "    \n",
    "    if not r.success:\n",
    "        return None\n",
    "    else:\n",
    "        muH,thetaH = r.x        \n",
    "        return muH,thetaH\n",
    "    \n",
    "def maxLikelihood(n:int, nb:float, ns:float, deltab=0.0, nll=False) -> float:\n",
    "    \n",
    "    #Get values for muHat and thetaHat:\n",
    "    muH,thetaH = muThetaHat(n,nb,ns,deltab)\n",
    "    \n",
    "    Lmax = likelihood((muH,thetaH),n,nb,ns,deltab,nll)\n",
    "    \n",
    "    return Lmax\n",
    "\n",
    "def qtest(mu, n, nb, ns, deltab, allowNegativeMu=False):\n",
    "    \n",
    "    if not allowNegativeMu:\n",
    "        mu = max(mu,0.)\n",
    "    #Get values for mu and theta for the maximum likelihood:\n",
    "    # (mu is contrained to be positive)\n",
    "    muH,thetaH = muThetaHat(n,nb,ns,deltab,allowNegativeMu=allowNegativeMu)\n",
    "    # If muHat > mu -> signal is compatible:\n",
    "    # (see Eq.16 in arxiv:1007.1727)\n",
    "    if muH > mu and not allowNegativeMu:\n",
    "        return 0.0\n",
    "   \n",
    "    # Maximum likelihood\n",
    "    Lmax = likelihood((muH,thetaH),n,nb,ns,deltab,nll=True)\n",
    "    \n",
    "    # Get nuisance estimator for the signal\n",
    "    thetaHH = thetaHat(mu, n, nb, ns, deltab)\n",
    "    L = likelihood((mu,thetaHH),n, nb, ns, deltab,nll=True)\n",
    "    \n",
    "    q = 2*(L-Lmax)\n",
    "    \n",
    "    return q\n",
    "    \n",
    "# Generate samples\n",
    "def genData(mu:float, nb:float, ns:float, deltab:float, nsim:(float,int)) -> list:\n",
    "    \n",
    "    # Make sure it is an int\n",
    "    nsim = int(nsim)\n",
    "    # First draw thetas from their random variable\n",
    "    # instance:\n",
    "    theta_random = piTheta.rvs(size=nsim,deltab=deltab)\n",
    "    \n",
    "    # For a given mu, generate random\n",
    "    # observed data using the poisson distribution\n",
    "    # for lambda = mu*ns + nb + theta_random\n",
    "    n_gen = []\n",
    "    for theta in theta_random:\n",
    "        lam = mu*ns+nb+theta\n",
    "        # Make sure the total number of events\n",
    "        # is positive\n",
    "        if lam <= 0.0:\n",
    "            continue\n",
    "        n = np.random.poisson(lam=lam, size=1)[0]\n",
    "        n_gen.append(n)\n",
    "    \n",
    "    return n_gen\n",
    "\n",
    "def pValue(mu, nobs, nb, ns, deltab, Nmin=1e2, Nmax=1e3, \n",
    "           rel_err=1e-1, abs_err=1e-3,allowNegativeMu=False):\n",
    "    \"\"\"\n",
    "    Compute p-value for fixed values of mu, nobs, nb, ns and deltab.\n",
    "    \n",
    "    :param Nmin: minimum number of pseudo experiments to generate\n",
    "    :param Nmax: maximum number of pseudo experiments to generate\n",
    "    :param rel_err: Maximum relative error for p-value result\n",
    "    \n",
    "    :return: p-value and its error\n",
    "    \"\"\"\n",
    "    \n",
    "    # Make sure limits are integers\n",
    "    Nmax = int(Nmax)\n",
    "    Nmin = int(Nmin)\n",
    "    \n",
    "    # Observed q:\n",
    "    qobs = qtest(mu, nobs, nb, ns, deltab,allowNegativeMu=allowNegativeMu)\n",
    "    \n",
    "    # First generate a large random data sample (cheap):   \n",
    "    pseudoN = genData(mu, nb, ns, deltab, Nmax)\n",
    "    \n",
    "    # Compute p-value using the first Nmin experiments:\n",
    "    q_mu = np.array([qtest(mu, n, nb, ns, deltab,allowNegativeMu=allowNegativeMu) for n in pseudoN[:Nmin]])\n",
    "    pvalue = len(q_mu[q_mu > qobs])/len(q_mu)\n",
    "        \n",
    "    # Loop over pseudo experiments and update p-value until it\n",
    "    # converges:\n",
    "    nconv = 0\n",
    "    for i,n in enumerate(pseudoN[Nmin:]):\n",
    "        q = qtest(mu, n, nb, ns, deltab,allowNegativeMu=allowNegativeMu)\n",
    "        # Update q values\n",
    "        q_mu = np.append(q_mu,q)\n",
    "        # Update p-value:\n",
    "        q_higher = len(q_mu[q_mu > qobs])\n",
    "        p = q_higher/len(q_mu)\n",
    "        if q_higher == 0:\n",
    "            # In this case use the minimum \n",
    "            # absolute error as qhigher = 1            \n",
    "            pErr = 1.0\n",
    "            absErr = 1.0 \n",
    "        else:\n",
    "            # Compute absolute and relative error on p-value\n",
    "            # (take into accound the statistical error\n",
    "            # on the number of q-values above q_obs)            \n",
    "            absErr = max(abs(pvalue-p),np.sqrt(q_higher))\n",
    "            pErr = max(abs(pvalue-p)/p,1./np.sqrt(q_higher))\n",
    "        \n",
    "        pvalue = p\n",
    "        # Compute how many consecutive iterations\n",
    "        # have converged:\n",
    "        if (pErr < rel_err or absErr < abs_err):\n",
    "            nconv += 1\n",
    "        else:\n",
    "            nconv = 0\n",
    "        # If it has converged for\n",
    "        # two consecutive iterations, stop\n",
    "        if nconv > 2:\n",
    "            return pvalue,pErr,absErr,i+Nmin\n",
    "            \n",
    "    \n",
    "    print('Maximum number of pseudo experiments exceeded for mu = %1.2f.' %mu)\n",
    "    \n",
    "    return pvalue,pErr,absErr,i+Nmin\n",
    "\n",
    "\n",
    "def muUL(nobs, nb, ns, deltab, Nmin=5e2,Nmax=1e3,allowNegativeMu=False,\n",
    "         rtol=1e-2,method='brentq'):\n",
    "    \n",
    "    p0 = pValue(0,nobs,nb,ns,deltab,Nmin,Nmax,allowNegativeMu=allowNegativeMu)[0]\n",
    "    \n",
    "    def rootCLs(mu,nobs,nb,ns,deltab,Nmin,Nmax,allowNegativeMu):\n",
    "        pmu = pValue(mu,nobs,nb,ns,deltab,Nmin,Nmax,allowNegativeMu=allowNegativeMu)[0]\n",
    "        CLs = pmu/(1.0-p0)\n",
    "        \n",
    "        return CLs-0.05\n",
    "\n",
    "    # mu can at least be as small as given by nobs = nb + mu*ns:\n",
    "    mu_min = (nobs-nb)/ns\n",
    "    # Assume mu_max can be at most at 5sigma\n",
    "    mu_max = (nobs-(nb-5*deltab))/ns\n",
    "    # Initial guess for mu_ul:\n",
    "    # (assume nb fluctuates 2sigma down)\n",
    "    mu_guess = nobs-(nb-2*deltab)/ns\n",
    "\n",
    "    if not allowNegativeMu:\n",
    "        mu_min = max(0.,mu_min)\n",
    "        mu_guess = max(0.,mu_guess)\n",
    "    \n",
    "    \n",
    "    if method == 'brentq':\n",
    "        mu_ul,r = brentq(rootCLs,mu_min,mu_max,\n",
    "                   args=(nobs,nb,ns,deltab,Nmin,Nmax,allowNegativeMu),\n",
    "                   rtol=rtol, full_output=True)\n",
    "    elif method == 'brenth':\n",
    "        mu_ul,r = brenth(rootCLs,mu_min,mu_max,\n",
    "                   args=(nobs,nb,ns,deltab,Nmin,Nmax,allowNegativeMu),\n",
    "                   rtol=rtol, full_output=True)        \n",
    "    elif method == 'newton':\n",
    "        mu_ul,r = newton(rootCLs, mu_guess, \n",
    "                         args=(nobs,nb,ns,deltab,Nmin,Nmax,allowNegativeMu), \n",
    "                         rtol=rtol, full_output=True)\n",
    "    elif method == 'ridder':\n",
    "        mu_ul,r = ridder(rootCLs,mu_min,mu_max,\n",
    "                   args=(nobs,nb,ns,deltab,Nmin,Nmax,allowNegativeMu),\n",
    "                   rtol=rtol, full_output=True)\n",
    "        \n",
    "    if not r.converged:\n",
    "        return None\n",
    "    else:\n",
    "        return mu_ul"
   ]
  },
  {
   "cell_type": "code",
   "execution_count": 3,
   "metadata": {},
   "outputs": [
    {
     "data": {
      "image/png": "[encoded data removed]",
      "text/plain": [
       "<Figure size 432x288 with 1 Axes>"
      ]
     },
     "metadata": {
      "needs_background": "light"
     },
     "output_type": "display_data"
    }
   ],
   "source": [
    "n = nobs = 331\n",
    "nb = 314.0\n",
    "deltab = 33.0\n",
    "ns =  0.646*139.0\n",
    "mu = 1.0\n",
    "nll = True\n",
    "thetavals = np.linspace(-3*deltab,3*deltab,300)\n",
    "muH,thetaH = muThetaHat(n,nb,ns,deltab)\n",
    "thetaHH = thetaHat(mu,n,nb,ns,deltab)\n",
    "lmax = maxLikelihood(n,nb,ns,deltab,nll=nll)\n",
    "l = [likelihood((muH,t),n,nb,ns,deltab,nll=nll)for t in thetavals]\n",
    "lmu = [likelihood((mu,t),n,nb,ns,deltab,nll=nll)for t in thetavals]\n",
    "plt.plot(thetavals,l,label=r'$\\mathcal{L}(\\mu=\\hat{\\mu})$')\n",
    "plt.plot(thetavals,lmu,label=r'$\\mathcal{L}(\\mu=%1.1f)$' %mu)\n",
    "plt.vlines(x=thetaH,ymin=min(min(l),min(lmu)),ymax=max(max(l),max(lmu)),color='red')\n",
    "plt.vlines(x=thetaHH,ymin=min(min(l),min(lmu)),ymax=max(max(l),max(lmu)),color='red',linestyle='--')\n",
    "plt.hlines(y=lmax,xmin=thetavals.min(),xmax=thetavals.max(),color='green')\n",
    "plt.xlabel(r'$\\theta$')\n",
    "plt.ylabel(r'$-\\log(\\mathcal{L})$')\n",
    "plt.title(r'$\\hat{\\mu} = %1.2f, \\hat{\\theta} = %1.2f, \\hat{\\theta}_{\\mu} = %1.2f$' %(muH,thetaH,thetaHH))\n",
    "plt.legend()\n",
    "plt.grid()\n",
    "plt.show()"
   ]
  },
  {
   "cell_type": "code",
   "execution_count": 4,
   "metadata": {},
   "outputs": [
    {
     "data": {
      "image/png": "[encoded data removed]",
      "text/plain": [
       "<Figure size 432x288 with 1 Axes>"
      ]
     },
     "metadata": {
      "needs_background": "light"
     },
     "output_type": "display_data"
    }
   ],
   "source": [
    "muvals = np.linspace(-1.,3,100)\n",
    "muH,thetaH = muThetaHat(n,nb,ns,deltab)\n",
    "l = [qtest(mu,n,nb,ns,deltab) for mu in muvals]\n",
    "plt.plot(muvals,l)\n",
    "plt.vlines(x=muH,ymin=min(l),ymax=max(l),color='red')\n",
    "plt.xlabel(r'$\\mu$')\n",
    "plt.ylabel(r'$q_\\mu$')\n",
    "plt.title(r'$\\hat{\\mu} = %1.2f$' %(muH))\n",
    "plt.grid()\n",
    "plt.show()"
   ]
  },
  {
   "cell_type": "code",
   "execution_count": 5,
   "metadata": {},
   "outputs": [],
   "source": [
    "# Generate pseudo data\n",
    "nsim = 1e5\n",
    "pseudoN = genData(mu, nb, ns, deltab, nsim)"
   ]
  },
  {
   "cell_type": "code",
   "execution_count": 6,
   "metadata": {},
   "outputs": [
    {
     "data": {
      "image/png": "[encoded data removed]",
      "text/plain": [
       "<Figure size 432x288 with 1 Axes>"
      ]
     },
     "metadata": {
      "needs_background": "light"
     },
     "output_type": "display_data"
    }
   ],
   "source": [
    "# Plot pseudo data\n",
    "n_mean,n_std = np.mean(pseudoN),np.std(pseudoN)\n",
    "\n",
    "n_mean_app, n_std_app = nb+mu*ns,np.sqrt((nb+mu*ns)+deltab**2)\n",
    "\n",
    "plt.hist(pseudoN,bins=25,density=True)\n",
    "plt.title(r'$n = %1.0f \\pm %1.1f$ ($n_{gauss} = %1.0f \\pm %1.1f$)' %(n_mean,n_std,n_mean_app,n_std_app))\n",
    "xvals = np.linspace(0,2*nobs,1000)\n",
    "plt.xlabel(r'$n$')\n",
    "plt.plot(xvals,norm.pdf(xvals,loc=n_mean_app,scale=n_std_app),linewidth=3)\n",
    "plt.show()"
   ]
  },
  {
   "cell_type": "code",
   "execution_count": 7,
   "metadata": {
    "ExecuteTime": {
     "end_time": "2022-11-11T02:30:51.581861Z",
     "start_time": "2022-11-11T02:30:22.503205Z"
    }
   },
   "outputs": [
    {
     "name": "stdout",
     "output_type": "stream",
     "text": [
      "CPU times: user 12.5 s, sys: 35.3 ms, total: 12.5 s\n",
      "Wall time: 12.5 s\n"
     ]
    }
   ],
   "source": [
    "%%time\n",
    "#Compute q values\n",
    "qmu = np.array([qtest(mu, n, nb, ns, deltab) for n in pseudoN[:30000]])"
   ]
  },
  {
   "cell_type": "code",
   "execution_count": 8,
   "metadata": {
    "ExecuteTime": {
     "end_time": "2022-11-11T11:29:33.603672Z",
     "start_time": "2022-11-11T11:29:33.585497Z"
    }
   },
   "outputs": [
    {
     "data": {
      "image/png": "[encoded data removed]",
      "text/plain": [
       "<Figure size 432x288 with 1 Axes>"
      ]
     },
     "metadata": {
      "needs_background": "light"
     },
     "output_type": "display_data"
    }
   ],
   "source": [
    "qobs = qtest(mu, nobs, nb, ns, deltab)\n",
    "qvals = np.linspace(qmu.min(), qmu.max(), 100)\n",
    "# Plot histogram\n",
    "hist = plt.hist(qmu, bins=50, density=True, linestyle='--', histtype='step', label=r'$q_{\\mu}$ (MC)')\n",
    "plt.plot(qvals, chi2.pdf(qvals, df=1), linewidth=1, alpha=0.8, label=r'$\\chi^{2}$ distr.')\n",
    "plt.vlines(qobs, 0, chi2.pdf(qobs, df=1), 'red', label=r'$q_{obs}$')\n",
    "plt.title(r'$q_{obs} = %1.2f$'%qobs)\n",
    "plt.legend()\n",
    "plt.ylabel(r'PDF($q_{\\mu}$)')\n",
    "plt.xlabel(r'$q_{\\mu}$')\n",
    "plt.yscale('log')\n",
    "# plt.ylim(1e-4,1)\n",
    "plt.show()"
   ]
  },
  {
   "cell_type": "code",
   "execution_count": 9,
   "metadata": {
    "ExecuteTime": {
     "end_time": "2022-11-11T02:41:28.328741Z",
     "start_time": "2022-11-11T02:41:28.295214Z"
    }
   },
   "outputs": [
    {
     "name": "stdout",
     "output_type": "stream",
     "text": [
      "p-value following MC method: 0.027333333333333334\n",
      "p-value from chi squared distribution: 0.05436930275933649\n"
     ]
    }
   ],
   "source": [
    "# p-value from histogram\n",
    "pval_mc = len(qmu[qmu>qobs])/len(qmu)\n",
    "\n",
    "# p-value from chisquared distr.\n",
    "pval_chi = 1 - chi2.cdf(qobs, 1)\n",
    "\n",
    "print('p-value following MC method:', pval_mc)\n",
    "print('p-value from chi squared distribution:', pval_chi)"
   ]
  },
  {
   "cell_type": "code",
   "execution_count": 10,
   "metadata": {},
   "outputs": [
    {
     "name": "stdout",
     "output_type": "stream",
     "text": [
      "(0.02691997851772288, 0.04993761694389223, 20.024984394500787, 14895)\n",
      "CPU times: user 6.31 s, sys: 0 ns, total: 6.31 s\n",
      "Wall time: 6.31 s\n"
     ]
    }
   ],
   "source": [
    "%%time\n",
    "#p-value from function\n",
    "print(pValue(mu,nobs,nb,ns,deltab,Nmin=100,Nmax=1e5,rel_err=0.05))"
   ]
  },
  {
   "cell_type": "code",
   "execution_count": 11,
   "metadata": {},
   "outputs": [
    {
     "name": "stdout",
     "output_type": "stream",
     "text": [
      "(0.05504324669322359, 0.01999600119960014, 50.00999900019995, 45436)\n",
      "CPU times: user 37.6 s, sys: 27.5 ms, total: 37.7 s\n",
      "Wall time: 37.7 s\n"
     ]
    }
   ],
   "source": [
    "%%time\n",
    "#p-value from function\n",
    "print(pValue(mu,nobs,nb,ns,deltab,Nmin=100,Nmax=1e5,rel_err=0.02,allowNegativeMu=True))"
   ]
  },
  {
   "cell_type": "markdown",
   "metadata": {},
   "source": [
    "### Compute upper limit for mu:"
   ]
  },
  {
   "cell_type": "code",
   "execution_count": 12,
   "metadata": {},
   "outputs": [
    {
     "name": "stdout",
     "output_type": "stream",
     "text": [
      "Maximum number of pseudo experiments exceeded for mu = 0.00.\n",
      "Maximum number of pseudo experiments exceeded for mu = 2.03.\n",
      "Maximum number of pseudo experiments exceeded for mu = 1.83.\n",
      "0.8893051439946773\n",
      "CPU times: user 2min 53s, sys: 23.9 ms, total: 2min 53s\n",
      "Wall time: 2min 53s\n"
     ]
    }
   ],
   "source": [
    "%%time\n",
    "muMax = muUL(nobs,nb,ns,deltab,Nmax=1e5,method='brentq')\n",
    "print(muMax)"
   ]
  },
  {
   "cell_type": "code",
   "execution_count": 13,
   "metadata": {},
   "outputs": [
    {
     "name": "stdout",
     "output_type": "stream",
     "text": [
      "Maximum number of pseudo experiments exceeded for mu = 0.00.\n",
      "Maximum number of pseudo experiments exceeded for mu = 2.03.\n",
      "Maximum number of pseudo experiments exceeded for mu = 1.85.\n",
      "0.8774336179602658\n",
      "CPU times: user 2min 50s, sys: 47.9 ms, total: 2min 50s\n",
      "Wall time: 2min 50s\n"
     ]
    }
   ],
   "source": [
    "%%time\n",
    "muMax = muUL(nobs,nb,ns,deltab,Nmax=1e5,method='brenth')\n",
    "print(muMax)"
   ]
  },
  {
   "cell_type": "code",
   "execution_count": 14,
   "metadata": {},
   "outputs": [
    {
     "name": "stdout",
     "output_type": "stream",
     "text": [
      "Maximum number of pseudo experiments exceeded for mu = 0.00.\n",
      "Maximum number of pseudo experiments exceeded for mu = 2.03.\n",
      "0.8869284742206857\n",
      "CPU times: user 1min 57s, sys: 48 ms, total: 1min 57s\n",
      "Wall time: 1min 57s\n"
     ]
    }
   ],
   "source": [
    "%%time\n",
    "muMax = muUL(nobs,nb,ns,deltab,Nmax=1e5,method='ridder')\n",
    "print(muMax)"
   ]
  },
  {
   "cell_type": "code",
   "execution_count": 15,
   "metadata": {},
   "outputs": [
    {
     "name": "stdout",
     "output_type": "stream",
     "text": [
      "Maximum number of pseudo experiments exceeded for mu = 2.03.\n",
      "Maximum number of pseudo experiments exceeded for mu = 1.60.\n",
      "1.1863775408427046\n",
      "CPU times: user 39.5 s, sys: 24 ms, total: 39.5 s\n",
      "Wall time: 39.5 s\n"
     ]
    }
   ],
   "source": [
    "%%time\n",
    "muMax = muUL(nobs,nb,ns,deltab,Nmax=1e4,method='ridder',allowNegativeMu=True)\n",
    "print(muMax)"
   ]
  },
  {
   "cell_type": "markdown",
   "metadata": {},
   "source": [
    "### Low N regime:"
   ]
  },
  {
   "cell_type": "code",
   "execution_count": 18,
   "metadata": {},
   "outputs": [
    {
     "name": "stdout",
     "output_type": "stream",
     "text": [
      "Maximum number of pseudo experiments exceeded for mu = 0.00.\n",
      "p0:\n",
      "(0.0, 1.0, 1.0, 9999)\n",
      "pmu:\n",
      "(0.02192316040807467, 0.09950371902099892, 10.04987562112089, 4606)\n",
      "0.02192316040807467\n"
     ]
    }
   ],
   "source": [
    "nobs = 11\n",
    "nb = 11.3\n",
    "deltab = 3.1\n",
    "ns =  0.0682*139.0\n",
    "# lumi = 139.0/fb\n",
    "# upperLimit = 0.0751*fb\n",
    "# expectedUpperLimit = 0.0751*fb\n",
    "p0 = pValue(0,nobs,nb,ns,deltab,rel_err=0.1,Nmax=1e4,Nmin=1e3)\n",
    "print('p0:')\n",
    "print(p0)\n",
    "pmu = pValue(1.0,nobs,nb,ns,deltab,rel_err=0.1,Nmax=1e4)\n",
    "print('pmu:')\n",
    "print(pmu)\n",
    "CLs = pmu[0]/(1-p0[0])\n",
    "print(CLs)\n"
   ]
  },
  {
   "cell_type": "code",
   "execution_count": 21,
   "metadata": {},
   "outputs": [
    {
     "name": "stdout",
     "output_type": "stream",
     "text": [
      "p0:\n",
      "(0.910926721983405, 0.010475943427376403, 95.4567965102538, 10002)\n",
      "pmu:\n",
      "(0.04698590422873138, 0.04612656040144425, 21.6794833886788, 10002)\n",
      "0.5274971941638608\n"
     ]
    }
   ],
   "source": [
    "p0 = pValue(0,nobs,nb,ns,deltab,rel_err=0.1,Nmax=4e4,Nmin=1e4,allowNegativeMu=True)\n",
    "print('p0:')\n",
    "print(p0)\n",
    "pmu = pValue(1.0,nobs,nb,ns,deltab,rel_err=0.1,Nmax=4e4,Nmin=1e4,allowNegativeMu=True)\n",
    "print('pmu:')\n",
    "print(pmu)\n",
    "CLs = pmu[0]/(1-p0[0])\n",
    "print(CLs)"
   ]
  },
  {
   "cell_type": "code",
   "execution_count": 17,
   "metadata": {},
   "outputs": [
    {
     "name": "stdout",
     "output_type": "stream",
     "text": [
      "6.82E-02 [fb]\n"
     ]
    }
   ],
   "source": [
    "import sys\n",
    "sys.path.append('/home/lessa/smodels')\n",
    "from smodels.tools.simplifiedLikelihoods import Data, UpperLimitComputer\n",
    "from smodels.tools.physicsUnits import fb\n",
    "\n",
    "\n",
    "comp = UpperLimitComputer()\n",
    "\n",
    "m = Data ( nobs, nb, deltab**2, None, 1., lumi = 139.0/fb )\n",
    "ul = comp.getUpperLimitOnSigmaTimesEff(m, marginalize=False)\n",
    "print(ul)"
   ]
  },
  {
   "cell_type": "code",
   "execution_count": null,
   "metadata": {},
   "outputs": [],
   "source": []
  }
 ],
 "metadata": {
  "kernelspec": {
   "display_name": "Python 3 (ipykernel)",
   "language": "python",
   "name": "python3"
  },
  "language_info": {
   "codemirror_mode": {
    "name": "ipython",
    "version": 3
   },
   "file_extension": ".py",
   "mimetype": "text/x-python",
   "name": "python",
   "nbconvert_exporter": "python",
   "pygments_lexer": "ipython3",
   "version": "3.10.6"
  }
 },
 "nbformat": 4,
 "nbformat_minor": 2
}

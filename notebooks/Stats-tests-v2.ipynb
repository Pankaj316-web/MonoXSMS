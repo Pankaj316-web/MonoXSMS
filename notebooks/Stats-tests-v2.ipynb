{
 "cells": [
  {
   "cell_type": "code",
   "execution_count": 1,
   "metadata": {
    "ExecuteTime": {
     "end_time": "2022-11-11T02:32:15.094420Z",
     "start_time": "2022-11-11T02:32:15.090539Z"
    }
   },
   "outputs": [],
   "source": [
    "import pandas as pd\n",
    "import numpy as np\n",
    "import random\n",
    "import math\n",
    "import matplotlib.pyplot as plt\n",
    "from scipy.stats import poisson, norm, chi2\n",
    "from scipy.special import gamma, factorial\n",
    "from scipy.optimize import fsolve, root, brentq\n",
    "\n",
    "# from numba import jit"
   ]
  },
  {
   "cell_type": "markdown",
   "metadata": {},
   "source": [
    "<h3>Step 1: Build likelihood function:</h3>\n",
    "The simplest Likelihood function (without considering nuisance parameters) is given by:\n",
    "\n",
    "$$ L(\\mu) = \\frac{(\\mu s + b)^{n}}{n!}e^{-(\\mu s + b)} $$\n"
   ]
  },
  {
   "cell_type": "code",
   "execution_count": 2,
   "metadata": {
    "ExecuteTime": {
     "end_time": "2022-11-11T12:17:24.054245Z",
     "start_time": "2022-11-11T12:17:24.050162Z"
    }
   },
   "outputs": [],
   "source": [
    "# define factorial\n",
    "# likelihood function\n",
    "def likelihood(n : list, nb, ns, mu:list) -> list:\n",
    "    '''\n",
    "    Obtain the Likelihood for a specific set of data\n",
    "    n : # observed of events (numpy array)\n",
    "    nb : # of background events\n",
    "    ns : # of signal events\n",
    "    mu : strength parameter (numpy array)\n",
    "    '''        \n",
    "    \n",
    "    if len(n) != len(mu):\n",
    "        print('error msg')\n",
    "    \n",
    "    ntot = nb + mu*ns\n",
    "    prob = poisson.pmf(n, ntot)\n",
    "#     prob = (ntot**n)*(np.exp(-ntot)/factorial(n))\n",
    "    \n",
    "    return prob"
   ]
  },
  {
   "cell_type": "code",
   "execution_count": 3,
   "metadata": {
    "ExecuteTime": {
     "end_time": "2022-11-11T02:30:20.698611Z",
     "start_time": "2022-11-11T02:30:20.679669Z"
    }
   },
   "outputs": [],
   "source": [
    "def muHat(n, nb, ns):\n",
    "    \n",
    "    muHat = (n - nb)/ns\n",
    "    \n",
    "    return muHat"
   ]
  },
  {
   "cell_type": "code",
   "execution_count": 4,
   "metadata": {
    "ExecuteTime": {
     "end_time": "2022-11-11T02:30:21.112219Z",
     "start_time": "2022-11-11T02:30:21.101019Z"
    }
   },
   "outputs": [],
   "source": [
    "def profLikelihood(n, nb, ns, mu):\n",
    "    \n",
    "    L = likelihood(n, nb, ns, mu)\n",
    "    Lmax = likelihood(n, nb, ns, muHat(n, nb, ns))\n",
    "    return L/Lmax"
   ]
  },
  {
   "cell_type": "code",
   "execution_count": 5,
   "metadata": {
    "ExecuteTime": {
     "end_time": "2022-11-11T12:17:25.262139Z",
     "start_time": "2022-11-11T12:17:25.256995Z"
    }
   },
   "outputs": [],
   "source": [
    "#find a way to select only positive muHat\n",
    "def qtest(n, nb, ns, allowNegativeMu=False):\n",
    "    \n",
    "    mu = np.array([1.]*len(n))\n",
    "    if not allowNegativeMu:\n",
    "        q = np.where(muHat(n, nb, ns) > 0,\n",
    "                     -2.*np.log(profLikelihood(n, nb, ns, mu)),\n",
    "                     0.)\n",
    "    else:\n",
    "\n",
    "        q = -2.*np.log(profLikelihood(n, nb, ns, mu))\n",
    "    \n",
    "    \n",
    "    return q"
   ]
  },
  {
   "cell_type": "code",
   "execution_count": 82,
   "metadata": {
    "ExecuteTime": {
     "end_time": "2022-11-11T02:30:22.501635Z",
     "start_time": "2022-11-11T02:30:21.956720Z"
    }
   },
   "outputs": [],
   "source": [
    "# Set known values\n",
    "ns = 24.933117\n",
    "nb = 58.836\n",
    "mu = 1.\n",
    "nobs = 60.\n",
    "nsim = int(1e6)\n",
    "nobs = 60.\n",
    "\n",
    "\n",
    "# Generate samples under null hypothesis\n",
    "def genData(mu, nb, ns, nsim):\n",
    "    ngen = np.random.poisson(lam=mu*ns+nb, size=nsim) \n",
    "    return ngen\n",
    "\n",
    "\n",
    "pseudoN = genData(mu, nb, ns, nsim)"
   ]
  },
  {
   "cell_type": "code",
   "execution_count": 83,
   "metadata": {
    "ExecuteTime": {
     "end_time": "2022-11-11T02:30:51.581861Z",
     "start_time": "2022-11-11T02:30:22.503205Z"
    }
   },
   "outputs": [
    {
     "name": "stdout",
     "output_type": "stream",
     "text": [
      "CPU times: user 313 ms, sys: 31.4 ms, total: 344 ms\n",
      "Wall time: 341 ms\n"
     ]
    }
   ],
   "source": [
    "%%time\n",
    "negativeMu = True\n",
    "q0 = qtest(pseudoN, nb, ns, negativeMu)\n",
    "negativeMu = False\n",
    "q0B = qtest(pseudoN, nb, ns, negativeMu)"
   ]
  },
  {
   "cell_type": "code",
   "execution_count": 84,
   "metadata": {
    "ExecuteTime": {
     "end_time": "2022-11-11T11:29:33.603672Z",
     "start_time": "2022-11-11T11:29:33.585497Z"
    }
   },
   "outputs": [],
   "source": [
    "qobs = qtest(np.array([nobs]), nb, ns)\n",
    "qvals = np.linspace(q0.min(), q0.max(), 100)"
   ]
  },
  {
   "cell_type": "code",
   "execution_count": 85,
   "metadata": {
    "ExecuteTime": {
     "end_time": "2022-11-11T11:29:34.363330Z",
     "start_time": "2022-11-11T11:29:33.974926Z"
    },
    "scrolled": false
   },
   "outputs": [
    {
     "data": {
      "image/png": "[encoded data removed]",
      "text/plain": [
       "<Figure size 432x288 with 1 Axes>"
      ]
     },
     "metadata": {
      "needs_background": "light"
     },
     "output_type": "display_data"
    }
   ],
   "source": [
    "# Plot histogram\n",
    "hist = plt.hist(q0, bins=50, density=True, linestyle='--', histtype='step', label=r'MC $q_{\\mu}$')\n",
    "histB = plt.hist(q0B, bins=50, density=True, linestyle='--', histtype='step', label=r'MC $q_{\\mu} (\\hat{\\mu}>0)$')\n",
    "plt.plot(qvals, chi2.pdf(qvals, df=1), linewidth=1, alpha=0.8, label=r'$\\chi^{2}$ distr.')\n",
    "plt.vlines(qobs, 0, 1, 'red', label=r'$q_{obs}$')\n",
    "\n",
    "plt.legend()\n",
    "plt.ylabel('Probability Density')\n",
    "plt.xlabel(r'$q_{\\mu}$')\n",
    "plt.yscale('log')\n",
    "# plt.ylim(1e-4,1)\n",
    "plt.show()"
   ]
  },
  {
   "cell_type": "code",
   "execution_count": 86,
   "metadata": {
    "ExecuteTime": {
     "end_time": "2022-11-11T02:41:28.328741Z",
     "start_time": "2022-11-11T02:41:28.295214Z"
    }
   },
   "outputs": [
    {
     "name": "stdout",
     "output_type": "stream",
     "text": [
      "p-value following MC method: 0.006478\n",
      "p-value from chi squared distribution: [0.00619788]\n"
     ]
    }
   ],
   "source": [
    "# p-value from histogram\n",
    "pval_mc = len(q0[q0>=qobs])/len(q0)\n",
    "\n",
    "# p-value from chisquared distr.\n",
    "pval_chi = 1 - chi2.cdf(qobs, 1)\n",
    "\n",
    "print('p-value following MC method:', pval_mc)\n",
    "print('p-value from chi squared distribution:', pval_chi)"
   ]
  },
  {
   "cell_type": "code",
   "execution_count": 87,
   "metadata": {},
   "outputs": [
    {
     "name": "stdout",
     "output_type": "stream",
     "text": [
      "p-value following MC method (mu>0): 0.004677\n",
      "p-value from chi squared distribution: [0.00619788]\n"
     ]
    }
   ],
   "source": [
    "# p-value from histogram\n",
    "pval_mc = len(q0B[q0B>=qobs])/len(q0B)\n",
    "\n",
    "# p-value from chisquared distr.\n",
    "pval_chi = 1 - chi2.cdf(qobs, 1)\n",
    "\n",
    "print('p-value following MC method (mu>0):', pval_mc)\n",
    "print('p-value from chi squared distribution:', pval_chi)"
   ]
  },
  {
   "cell_type": "code",
   "execution_count": 70,
   "metadata": {},
   "outputs": [
    {
     "data": {
      "image/png": "[encoded data removed]",
      "text/plain": [
       "<Figure size 432x288 with 1 Axes>"
      ]
     },
     "metadata": {
      "needs_background": "light"
     },
     "output_type": "display_data"
    }
   ],
   "source": [
    "plt.hist(pseudoN,bins=50,density=True)\n",
    "xvals = np.linspace(40,120,1000)\n",
    "from scipy.stats import norm\n",
    "plt.plot(xvals,norm.pdf(xvals,loc=(ns+nb),scale=np.sqrt(ns+nb)))\n",
    "plt.show()"
   ]
  },
  {
   "cell_type": "code",
   "execution_count": 71,
   "metadata": {},
   "outputs": [
    {
     "data": {
      "text/plain": [
       "(83.76840291, 9.151730005736805)"
      ]
     },
     "execution_count": 71,
     "metadata": {},
     "output_type": "execute_result"
    }
   ],
   "source": [
    "np.mean(pseudoN),np.std(pseudoN)"
   ]
  },
  {
   "cell_type": "code",
   "execution_count": 72,
   "metadata": {},
   "outputs": [
    {
     "data": {
      "text/plain": [
       "(83.769117, 9.152547022550607)"
      ]
     },
     "execution_count": 72,
     "metadata": {},
     "output_type": "execute_result"
    }
   ],
   "source": [
    "nb+ns,np.sqrt(nb+ns)"
   ]
  },
  {
   "cell_type": "markdown",
   "metadata": {},
   "source": [
    "Let us now test different values of s and b:"
   ]
  },
  {
   "cell_type": "code",
   "execution_count": null,
   "metadata": {},
   "outputs": [],
   "source": []
  }
 ],
 "metadata": {
  "kernelspec": {
   "display_name": "Python 3 (ipykernel)",
   "language": "python",
   "name": "python3"
  },
  "language_info": {
   "codemirror_mode": {
    "name": "ipython",
    "version": 3
   },
   "file_extension": ".py",
   "mimetype": "text/x-python",
   "name": "python",
   "nbconvert_exporter": "python",
   "pygments_lexer": "ipython3",
   "version": "3.9.7"
  }
 },
 "nbformat": 4,
 "nbformat_minor": 2
}

{
 "cells": [
  {
   "cell_type": "code",
   "execution_count": 1,
   "metadata": {
    "ExecuteTime": {
     "end_time": "2022-11-11T02:32:15.094420Z",
     "start_time": "2022-11-11T02:32:15.090539Z"
    }
   },
   "outputs": [],
   "source": [
    "import pandas as pd\n",
    "import numpy as np\n",
    "import random\n",
    "import math\n",
    "import matplotlib.pyplot as plt\n",
    "from scipy.stats import poisson, norm, chi2\n",
    "from scipy.special import gamma, factorial\n",
    "from scipy.optimize import fsolve, root, brentq\n",
    "\n",
    "# from numba import jit"
   ]
  },
  {
   "cell_type": "markdown",
   "metadata": {},
   "source": [
    "<h3>Step 1: Build likelihood function:</h3>\n",
    "The simplest Likelihood function (without considering nuisance parameters) is given by:\n",
    "\n",
    "$$ L(\\mu) = \\frac{(\\mu s + b)^{n}}{n!}e^{-(\\mu s + b)} $$\n"
   ]
  },
  {
   "cell_type": "code",
   "execution_count": 2,
   "metadata": {
    "ExecuteTime": {
     "end_time": "2022-11-11T12:17:24.054245Z",
     "start_time": "2022-11-11T12:17:24.050162Z"
    }
   },
   "outputs": [],
   "source": [
    "# define factorial\n",
    "# likelihood function\n",
    "def likelihood(n, nb, ns, mu):\n",
    "    '''\n",
    "    Obtain the Likelihood for a specific set of data\n",
    "    n : # observed of events\n",
    "    nb : # of background events\n",
    "    ns : # of signal events\n",
    "    mu : strength parameter\n",
    "    '''\n",
    "    e = nb + mu*ns\n",
    "#     prob = poisson.pmf(n, ntot)\n",
    "    prob = e**n * np.exp(-(e)) / factorial(n)\n",
    "    \n",
    "    return prob"
   ]
  },
  {
   "cell_type": "code",
   "execution_count": 3,
   "metadata": {
    "ExecuteTime": {
     "end_time": "2022-11-11T02:30:20.698611Z",
     "start_time": "2022-11-11T02:30:20.679669Z"
    }
   },
   "outputs": [],
   "source": [
    "def muHat(n, nb, ns):\n",
    "    \n",
    "    muHat = (n - nb)/ns\n",
    "    return muHat"
   ]
  },
  {
   "cell_type": "code",
   "execution_count": 4,
   "metadata": {
    "ExecuteTime": {
     "end_time": "2022-11-11T02:30:21.112219Z",
     "start_time": "2022-11-11T02:30:21.101019Z"
    }
   },
   "outputs": [],
   "source": [
    "def profLikelihood(n, nb, ns, mu):\n",
    "    \n",
    "    L = likelihood(n, nb, ns, mu)\n",
    "    Lmax = likelihood(n, nb, ns, muHat(n, nb, ns))\n",
    "    return L/Lmax"
   ]
  },
  {
   "cell_type": "code",
   "execution_count": 5,
   "metadata": {
    "ExecuteTime": {
     "end_time": "2022-11-11T12:17:25.262139Z",
     "start_time": "2022-11-11T12:17:25.256995Z"
    }
   },
   "outputs": [],
   "source": [
    "#find a way to select only positive muHat\n",
    "def qtest(n, nb, ns):\n",
    "    \n",
    "    if muHat(n, nb, ns) > 0:\n",
    "        return -2.*np.log(profLikelihood(n, nb, ns, 1))\n",
    "    else:\n",
    "        return 0"
   ]
  },
  {
   "cell_type": "code",
   "execution_count": 6,
   "metadata": {
    "ExecuteTime": {
     "end_time": "2022-11-11T02:30:22.501635Z",
     "start_time": "2022-11-11T02:30:21.956720Z"
    }
   },
   "outputs": [],
   "source": [
    "# Set known values\n",
    "ns = 14.933117\n",
    "nb = 38.836\n",
    "mu = 1.\n",
    "nobs = 40.\n",
    "nsim = int(1e6)\n",
    "\n",
    "t_mu = []\n",
    "\n",
    "# Generate samples under null hypothesis\n",
    "def genData(mu, nb, ns, nsim):\n",
    "    ngen = np.random.poisson(lam=mu*ns+nb, size=nsim) \n",
    "    return ngen\n",
    "\n",
    "\n",
    "pseudoN = genData(mu, nb, ns, nsim)"
   ]
  },
  {
   "cell_type": "code",
   "execution_count": 7,
   "metadata": {
    "ExecuteTime": {
     "end_time": "2022-11-11T02:30:51.581861Z",
     "start_time": "2022-11-11T02:30:22.503205Z"
    }
   },
   "outputs": [
    {
     "name": "stdout",
     "output_type": "stream",
     "text": [
      "CPU times: user 4.82 s, sys: 23 ms, total: 4.85 s\n",
      "Wall time: 4.85 s\n"
     ]
    }
   ],
   "source": [
    "%%time\n",
    "q0 = np.vectorize(qtest)(pseudoN, np.full(nsim, nb), np.full(nsim, ns))"
   ]
  },
  {
   "cell_type": "code",
   "execution_count": 8,
   "metadata": {
    "ExecuteTime": {
     "end_time": "2022-11-11T11:29:33.603672Z",
     "start_time": "2022-11-11T11:29:33.585497Z"
    }
   },
   "outputs": [],
   "source": [
    "qobs = qtest(nobs, nb, ns)\n",
    "qvals = np.linspace(q0.min(), q0.max(), 100)"
   ]
  },
  {
   "cell_type": "code",
   "execution_count": 9,
   "metadata": {
    "ExecuteTime": {
     "end_time": "2022-11-11T11:29:34.363330Z",
     "start_time": "2022-11-11T11:29:33.974926Z"
    },
    "scrolled": false
   },
   "outputs": [
    {
     "data": {
      "image/png": "[encoded data removed]",
      "text/plain": [
       "<Figure size 432x288 with 1 Axes>"
      ]
     },
     "metadata": {
      "needs_background": "light"
     },
     "output_type": "display_data"
    }
   ],
   "source": [
    "# Plot histogram\n",
    "hist = plt.hist(q0, bins=25, density=True, linestyle='--', histtype='step', label=r'MC $q_{\\mu}$')\n",
    "plt.plot(qvals, chi2.pdf(qvals, df=1), linewidth=1, alpha=0.8, label=r'$\\chi^{2}$ distr.')\n",
    "# plt.vlines(qobs, 0, 1, 'red', label=r'$q_{obs}$')\n",
    "\n",
    "plt.legend()\n",
    "plt.ylabel('Probability')\n",
    "plt.xlabel(r'$q_{\\mu}$')\n",
    "plt.yscale('log')\n",
    "plt.show()"
   ]
  },
  {
   "cell_type": "code",
   "execution_count": 10,
   "metadata": {
    "ExecuteTime": {
     "end_time": "2022-11-11T02:41:28.328741Z",
     "start_time": "2022-11-11T02:41:28.295214Z"
    }
   },
   "outputs": [
    {
     "name": "stdout",
     "output_type": "stream",
     "text": [
      "p-value following MC method: 0.041061\n",
      "p-value from chi squared distribution: 0.049079006579640705\n"
     ]
    }
   ],
   "source": [
    "# p-value from histogram\n",
    "pval_mc = len(q0[q0>=qobs])/len(q0)\n",
    "\n",
    "# p-value from chisquared distr.\n",
    "pval_chi = 1 - chi2.cdf(qobs, 1)\n",
    "\n",
    "print(r'p-value following MC method:', pval_mc)\n",
    "print('p-value from chi squared distribution:', pval_chi)"
   ]
  },
  {
   "cell_type": "markdown",
   "metadata": {},
   "source": [
    "Let us now test different values of s and b:"
   ]
  },
  {
   "cell_type": "code",
   "execution_count": 11,
   "metadata": {
    "ExecuteTime": {
     "end_time": "2022-11-11T12:36:13.744732Z",
     "start_time": "2022-11-11T12:36:13.740933Z"
    }
   },
   "outputs": [],
   "source": [
    "ns1 = random.uniform(20, 30)\n",
    "nb1 = random.uniform(20, 40)"
   ]
  },
  {
   "cell_type": "code",
   "execution_count": 12,
   "metadata": {
    "ExecuteTime": {
     "end_time": "2022-11-11T12:37:03.444609Z",
     "start_time": "2022-11-11T12:36:14.138688Z"
    }
   },
   "outputs": [],
   "source": [
    "n = genData(mu, nb1, ns1, nsim)\n",
    "q01 = np.vectorize(qtest)(n, np.full(nsim, nb1), np.full(nsim, ns1))"
   ]
  },
  {
   "cell_type": "code",
   "execution_count": 13,
   "metadata": {
    "ExecuteTime": {
     "end_time": "2022-11-11T12:37:03.467471Z",
     "start_time": "2022-11-11T12:37:03.446324Z"
    }
   },
   "outputs": [],
   "source": [
    "qvals1 = np.linspace(q01.min(), q01.max(), 100)"
   ]
  },
  {
   "cell_type": "code",
   "execution_count": 14,
   "metadata": {
    "ExecuteTime": {
     "end_time": "2022-11-11T12:37:32.126992Z",
     "start_time": "2022-11-11T12:37:32.122030Z"
    }
   },
   "outputs": [],
   "source": [
    "ns2 = random.uniform(20, 30)\n",
    "nb2 = random.uniform(40, 50)"
   ]
  },
  {
   "cell_type": "code",
   "execution_count": 15,
   "metadata": {
    "ExecuteTime": {
     "end_time": "2022-11-11T12:38:19.883219Z",
     "start_time": "2022-11-11T12:37:32.963589Z"
    }
   },
   "outputs": [],
   "source": [
    "n2 = genData(mu, nb2, ns2, nsim)\n",
    "q02 = np.vectorize(qtest)(n2, np.full(nsim, nb2), np.full(nsim, ns2))"
   ]
  },
  {
   "cell_type": "code",
   "execution_count": 16,
   "metadata": {
    "ExecuteTime": {
     "end_time": "2022-11-11T12:53:56.824028Z",
     "start_time": "2022-11-11T12:53:56.819789Z"
    }
   },
   "outputs": [],
   "source": [
    "qvals2 = np.linspace(q02.min(), q02.max(), 100)"
   ]
  },
  {
   "cell_type": "code",
   "execution_count": 17,
   "metadata": {
    "ExecuteTime": {
     "end_time": "2022-11-11T12:53:56.824028Z",
     "start_time": "2022-11-11T12:53:56.819789Z"
    }
   },
   "outputs": [
    {
     "name": "stdout",
     "output_type": "stream",
     "text": [
      "20.370802203299565 31.77161321004685\n",
      "22.615863234803 49.320536749828925\n"
     ]
    }
   ],
   "source": [
    "print(ns1, nb1)\n",
    "print(ns2, nb2)"
   ]
  },
  {
   "cell_type": "code",
   "execution_count": 18,
   "metadata": {
    "ExecuteTime": {
     "end_time": "2022-11-11T12:52:45.644295Z",
     "start_time": "2022-11-11T12:52:44.893707Z"
    }
   },
   "outputs": [
    {
     "data": {
      "image/png": "[encoded data removed]",
      "text/plain": [
       "<Figure size 576x288 with 2 Axes>"
      ]
     },
     "metadata": {
      "needs_background": "light"
     },
     "output_type": "display_data"
    }
   ],
   "source": [
    "fig, (ax1, ax2) = plt.subplots(1, 2, figsize=(8,4))\n",
    "\n",
    "ax1.hist(q01, bins=25, density=True, linestyle='--', histtype='step', label=r'MC $q_{\\mu}$')\n",
    "ax1.plot(qvals1, chi2.pdf(qvals1, df=1), linewidth=1, alpha=0.8, label=r'$\\chi^{2}$ distr.')\n",
    "\n",
    "ax2.hist(q02, bins=25, density=True, linestyle='--', histtype='step', label=r'MC $q_{\\mu}$')\n",
    "ax2.plot(qvals2, chi2.pdf(qvals2, df=1), linewidth=1, alpha=0.8, label=r'$\\chi^{2}$ distr.')\n",
    "\n",
    "plt.legend()\n",
    "ax1.set_ylabel('Probability')\n",
    "ax2.set_xlabel(r'$q_{\\mu}$')\n",
    "plt.yscale('log')\n",
    "plt.show()"
   ]
  },
  {
   "cell_type": "code",
   "execution_count": null,
   "metadata": {},
   "outputs": [],
   "source": []
  }
 ],
 "metadata": {
  "kernelspec": {
   "display_name": "Python 3 (ipykernel)",
   "language": "python",
   "name": "python3"
  },
  "language_info": {
   "codemirror_mode": {
    "name": "ipython",
    "version": 3
   },
   "file_extension": ".py",
   "mimetype": "text/x-python",
   "name": "python",
   "nbconvert_exporter": "python",
   "pygments_lexer": "ipython3",
   "version": "3.9.7"
  }
 },
 "nbformat": 4,
 "nbformat_minor": 2
}
